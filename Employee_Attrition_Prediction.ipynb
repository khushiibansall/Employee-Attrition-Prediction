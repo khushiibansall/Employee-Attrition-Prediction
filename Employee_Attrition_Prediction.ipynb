{
  "nbformat": 4,
  "nbformat_minor": 0,
  "metadata": {
    "colab": {
      "provenance": [],
      "authorship_tag": "ABX9TyNEst7V1rxqhyYwO+Dg58y3",
      "include_colab_link": true
    },
    "kernelspec": {
      "name": "python3",
      "display_name": "Python 3"
    },
    "language_info": {
      "name": "python"
    }
  },
  "cells": [
    {
      "cell_type": "markdown",
      "metadata": {
        "id": "view-in-github",
        "colab_type": "text"
      },
      "source": [
        "<a href=\"https://colab.research.google.com/github/khushiibansall/Employee-Attrition-Prediction/blob/main/Employee_Attrition_Prediction.ipynb\" target=\"_parent\"><img src=\"https://colab.research.google.com/assets/colab-badge.svg\" alt=\"Open In Colab\"/></a>"
      ]
    },
    {
      "cell_type": "code",
      "execution_count": 4,
      "metadata": {
        "colab": {
          "base_uri": "https://localhost:8080/",
          "height": 17
        },
        "id": "_cpsmo4ig85q",
        "outputId": "e4737b53-1aa4-4c47-cd29-bc97685d6445"
      },
      "outputs": [
        {
          "output_type": "display_data",
          "data": {
            "text/html": [
              "        <script type=\"text/javascript\">\n",
              "        window.PlotlyConfig = {MathJaxConfig: 'local'};\n",
              "        if (window.MathJax && window.MathJax.Hub && window.MathJax.Hub.Config) {window.MathJax.Hub.Config({SVG: {font: \"STIX-Web\"}});}\n",
              "        if (typeof require !== 'undefined') {\n",
              "        require.undef(\"plotly\");\n",
              "        requirejs.config({\n",
              "            paths: {\n",
              "                'plotly': ['https://cdn.plot.ly/plotly-2.24.1.min']\n",
              "            }\n",
              "        });\n",
              "        require(['plotly'], function(Plotly) {\n",
              "            window._Plotly = Plotly;\n",
              "        });\n",
              "        }\n",
              "        </script>\n",
              "        "
            ]
          },
          "metadata": {}
        }
      ],
      "source": [
        "import numpy as np # linear algebra\n",
        "import pandas as pd # data processing\n",
        "import seaborn as sns\n",
        "import matplotlib.pyplot as plt\n",
        "%matplotlib inline\n",
        "\n",
        "# Import statements required for Plotly\n",
        "import plotly.offline as py\n",
        "py.init_notebook_mode(connected=True)\n",
        "import plotly.graph_objs as go\n",
        "import plotly.tools as tls\n",
        "\n",
        "\n",
        "from sklearn.ensemble import RandomForestClassifier, GradientBoostingClassifier\n",
        "from sklearn.linear_model import LogisticRegression\n",
        "from sklearn.metrics import (accuracy_score, log_loss, classification_report)\n",
        "from imblearn.over_sampling import SMOTE\n",
        "import xgboost"
      ]
    },
    {
      "cell_type": "code",
      "source": [
        "attrition = pd.read_csv('Employee-Attrition.csv')"
      ],
      "metadata": {
        "id": "kMZG-VTfj4Z4"
      },
      "execution_count": 7,
      "outputs": []
    },
    {
      "cell_type": "code",
      "source": [
        "# Create subplots\n",
        "f, axes = plt.subplots(3, 3, figsize=(10, 8), sharex=False, sharey=False)\n",
        "\n",
        "# Defining our colormap scheme\n",
        "s = np.linspace(0, 3, 10)\n",
        "\n",
        "# Plot 1\n",
        "cmap = sns.cubehelix_palette(start=0.0, light=1, as_cmap=True)\n",
        "sns.kdeplot(x=attrition['Age'].values, y=attrition['TotalWorkingYears'].values, cmap=cmap, shade=True, cut=5, ax=axes[0,0])\n",
        "axes[0,0].set(title='Age against Total working years')\n",
        "\n",
        "# Plot 2\n",
        "cmap = sns.cubehelix_palette(start=0.333333333333, light=1, as_cmap=True)\n",
        "sns.kdeplot(x=attrition['Age'].values, y=attrition['DailyRate'].values, cmap=cmap, shade=True, ax=axes[0,1])\n",
        "axes[0,1].set(title='Age against Daily Rate')\n",
        "\n",
        "# Plot 3\n",
        "cmap = sns.cubehelix_palette(start=0.666666666667, light=1, as_cmap=True)\n",
        "sns.kdeplot(x=attrition['YearsInCurrentRole'].values, y=attrition['Age'].values, cmap=cmap, shade=True, ax=axes[0,2])\n",
        "axes[0,2].set(title='Years in role against Age')\n",
        "\n",
        "# Plot 4\n",
        "cmap = sns.cubehelix_palette(start=1.0, light=1, as_cmap=True)\n",
        "sns.kdeplot(x=attrition['DailyRate'].values, y=attrition['DistanceFromHome'].values, cmap=cmap, shade=True, ax=axes[1,0])\n",
        "axes[1,0].set(title='Daily Rate against Distance from Home')\n",
        "\n",
        "# Plot 5\n",
        "cmap = sns.cubehelix_palette(start=1.333333333333, light=1, as_cmap=True)\n",
        "sns.kdeplot(x=attrition['DailyRate'].values, y=attrition['JobSatisfaction'].values, cmap=cmap, shade=True, ax=axes[1,1])\n",
        "axes[1,1].set(title='Daily Rate against Job Satisfaction')\n",
        "\n",
        "# Plot 6\n",
        "cmap = sns.cubehelix_palette(start=1.666666666667, light=1, as_cmap=True)\n",
        "sns.kdeplot(x=attrition['YearsAtCompany'].values, y=attrition['JobSatisfaction'].values, cmap=cmap, shade=True, ax=axes[1,2])\n",
        "axes[1,2].set(title='Years at Company against Job Satisfaction')\n",
        "\n",
        "# Plot 7\n",
        "cmap = sns.cubehelix_palette(start=2.0, light=1, as_cmap=True)\n",
        "sns.kdeplot(x=attrition['YearsAtCompany'].values, y=attrition['DailyRate'].values, cmap=cmap, shade=True, ax=axes[2,0])\n",
        "axes[2,0].set(title='Years at Company against Daily Rate')\n",
        "\n",
        "# Plot 8\n",
        "cmap = sns.cubehelix_palette(start=2.333333333333, light=1, as_cmap=True)\n",
        "sns.kdeplot(x=attrition['RelationshipSatisfaction'].values, y=attrition['YearsWithCurrManager'].values, cmap=cmap, shade=True, ax=axes[2,1])\n",
        "axes[2,1].set(title='Relationship Satisfaction vs Years with Manager')\n",
        "\n",
        "# Plot 9\n",
        "cmap = sns.cubehelix_palette(start=2.666666666667, light=1, as_cmap=True)\n",
        "sns.kdeplot(x=attrition['WorkLifeBalance'].values, y=attrition['JobSatisfaction'].values, cmap=cmap, shade=True, ax=axes[2,2])\n",
        "axes[2,2].set(title='Work Life Balance against Satisfaction')\n",
        "\n",
        "# Adjust layout\n",
        "f.tight_layout()\n",
        "plt.show()\n"
      ],
      "metadata": {
        "colab": {
          "base_uri": "https://localhost:8080/",
          "height": 1000
        },
        "id": "FTj6ajOukOIc",
        "outputId": "3df9fd42-7ed8-4347-c6a1-eb510cf9307b"
      },
      "execution_count": 11,
      "outputs": [
        {
          "output_type": "stream",
          "name": "stderr",
          "text": [
            "<ipython-input-11-71aad738ed16>:9: FutureWarning:\n",
            "\n",
            "\n",
            "\n",
            "`shade` is now deprecated in favor of `fill`; setting `fill=True`.\n",
            "This will become an error in seaborn v0.14.0; please update your code.\n",
            "\n",
            "\n",
            "<ipython-input-11-71aad738ed16>:14: FutureWarning:\n",
            "\n",
            "\n",
            "\n",
            "`shade` is now deprecated in favor of `fill`; setting `fill=True`.\n",
            "This will become an error in seaborn v0.14.0; please update your code.\n",
            "\n",
            "\n",
            "<ipython-input-11-71aad738ed16>:19: FutureWarning:\n",
            "\n",
            "\n",
            "\n",
            "`shade` is now deprecated in favor of `fill`; setting `fill=True`.\n",
            "This will become an error in seaborn v0.14.0; please update your code.\n",
            "\n",
            "\n",
            "<ipython-input-11-71aad738ed16>:24: FutureWarning:\n",
            "\n",
            "\n",
            "\n",
            "`shade` is now deprecated in favor of `fill`; setting `fill=True`.\n",
            "This will become an error in seaborn v0.14.0; please update your code.\n",
            "\n",
            "\n",
            "<ipython-input-11-71aad738ed16>:29: FutureWarning:\n",
            "\n",
            "\n",
            "\n",
            "`shade` is now deprecated in favor of `fill`; setting `fill=True`.\n",
            "This will become an error in seaborn v0.14.0; please update your code.\n",
            "\n",
            "\n",
            "<ipython-input-11-71aad738ed16>:34: FutureWarning:\n",
            "\n",
            "\n",
            "\n",
            "`shade` is now deprecated in favor of `fill`; setting `fill=True`.\n",
            "This will become an error in seaborn v0.14.0; please update your code.\n",
            "\n",
            "\n",
            "<ipython-input-11-71aad738ed16>:39: FutureWarning:\n",
            "\n",
            "\n",
            "\n",
            "`shade` is now deprecated in favor of `fill`; setting `fill=True`.\n",
            "This will become an error in seaborn v0.14.0; please update your code.\n",
            "\n",
            "\n",
            "<ipython-input-11-71aad738ed16>:44: FutureWarning:\n",
            "\n",
            "\n",
            "\n",
            "`shade` is now deprecated in favor of `fill`; setting `fill=True`.\n",
            "This will become an error in seaborn v0.14.0; please update your code.\n",
            "\n",
            "\n",
            "<ipython-input-11-71aad738ed16>:49: FutureWarning:\n",
            "\n",
            "\n",
            "\n",
            "`shade` is now deprecated in favor of `fill`; setting `fill=True`.\n",
            "This will become an error in seaborn v0.14.0; please update your code.\n",
            "\n",
            "\n"
          ]
        },
        {
          "output_type": "display_data",
          "data": {
            "text/plain": [
              "<Figure size 1000x800 with 9 Axes>"
            ],
            "image/png": "[encoded data removed]"
          },
          "metadata": {}
        }
      ]
    },
    {
      "cell_type": "code",
      "source": [
        "# Define a dictionary for the target mapping\n",
        "target_map = {'Yes':1, 'No':0}\n",
        "# Use the pandas apply method to numerically encode our attrition target variable\n",
        "attrition[\"Attrition_numerical\"] = attrition[\"Attrition\"].apply(lambda x: target_map[x])\n",
        "\n",
        "# creating a list of only numerical values\n",
        "numerical = [u'Age', u'DailyRate', u'DistanceFromHome',\n",
        "             u'Education', u'EmployeeNumber', u'EnvironmentSatisfaction',\n",
        "             u'HourlyRate', u'JobInvolvement', u'JobLevel', u'JobSatisfaction',\n",
        "             u'MonthlyIncome', u'MonthlyRate', u'NumCompaniesWorked',\n",
        "             u'PercentSalaryHike', u'PerformanceRating', u'RelationshipSatisfaction',\n",
        "             u'StockOptionLevel', u'TotalWorkingYears',\n",
        "             u'TrainingTimesLastYear', u'WorkLifeBalance', u'YearsAtCompany',\n",
        "             u'YearsInCurrentRole', u'YearsSinceLastPromotion',u'YearsWithCurrManager']\n",
        "data = [\n",
        "    go.Heatmap(\n",
        "        z= attrition[numerical].astype(float).corr().values, # Generating the Pearson correlation\n",
        "        x=attrition[numerical].columns.values,\n",
        "        y=attrition[numerical].columns.values,\n",
        "        colorscale='Viridis',\n",
        "        reversescale = False,\n",
        "#         text = True ,\n",
        "        opacity = 1.0\n",
        "\n",
        "    )\n",
        "]\n",
        "\n",
        "\n",
        "layout = go.Layout(\n",
        "    title='Pearson Correlation of numerical features',\n",
        "    xaxis = dict(ticks='', nticks=36),\n",
        "    yaxis = dict(ticks='' ),\n",
        "    width = 900, height = 700,\n",
        "\n",
        ")\n",
        "\n",
        "\n",
        "fig = go.Figure(data=data, layout=layout)\n",
        "py.iplot(fig, filename='labelled-heatmap')"
      ],
      "metadata": {
        "colab": {
          "base_uri": "https://localhost:8080/",
          "height": 737
        },
        "id": "LGtKZee9k2oy",
        "outputId": "ada8b867-62aa-447d-9e00-48b0173ed48e"
      },
      "execution_count": 13,
      "outputs": [
        {
          "output_type": "display_data",
          "data": {
            "application/vnd.plotly.v1+json": {
              "data": [
                {
                  "colorscale": [
                    [
                      0,
                      "#440154"
                    ],
                    [
                      0.1111111111111111,
                      "#482878"
                    ],
                    [
                      0.2222222222222222,
                      "#3e4989"
                    ],
                    [
                      0.3333333333333333,
                      "#31688e"
                    ],
                    [
                      0.4444444444444444,
                      "#26828e"
                    ],
                    [
                      0.5555555555555556,
                      "#1f9e89"
                    ],
                    [
                      0.6666666666666666,
                      "#35b779"
                    ],
                    [
                      0.7777777777777778,
                      "#6ece58"
                    ],
                    [
                      0.8888888888888888,
                      "#b5de2b"
                    ],
                    [
                      1,
                      "#fde725"
                    ]
                  ],
                  "opacity": 1,
                  "reversescale": false,
                  "x": [
                    "Age",
                    "DailyRate",
                    "DistanceFromHome",
                    "Education",
                    "EmployeeNumber",
                    "EnvironmentSatisfaction",
                    "HourlyRate",
                    "JobInvolvement",
                    "JobLevel",
                    "JobSatisfaction",
                    "MonthlyIncome",
                    "MonthlyRate",
                    "NumCompaniesWorked",
                    "PercentSalaryHike",
                    "PerformanceRating",
                    "RelationshipSatisfaction",
                    "StockOptionLevel",
                    "TotalWorkingYears",
                    "TrainingTimesLastYear",
                    "WorkLifeBalance",
                    "YearsAtCompany",
                    "YearsInCurrentRole",
                    "YearsSinceLastPromotion",
                    "YearsWithCurrManager"
                  ],
                  "y": [
                    "Age",
                    "DailyRate",
                    "DistanceFromHome",
                    "Education",
                    "EmployeeNumber",
                    "EnvironmentSatisfaction",
                    "HourlyRate",
                    "JobInvolvement",
                    "JobLevel",
                    "JobSatisfaction",
                    "MonthlyIncome",
                    "MonthlyRate",
                    "NumCompaniesWorked",
                    "PercentSalaryHike",
                    "PerformanceRating",
                    "RelationshipSatisfaction",
                    "StockOptionLevel",
                    "TotalWorkingYears",
                    "TrainingTimesLastYear",
                    "WorkLifeBalance",
                    "YearsAtCompany",
                    "YearsInCurrentRole",
                    "YearsSinceLastPromotion",
                    "YearsWithCurrManager"
                  ],
                  "z": [
                    [
                      1,
                      0.010660942645538433,
                      -0.00168612014808715,
                      0.2080337310142398,
                      -0.0101454670768599,
                      0.010146427861437268,
                      0.024286542550967197,
                      0.029819958629590578,
                      0.5096042284323842,
                      -0.00489187714868713,
                      0.4978545669265801,
                      0.02805116713392273,
                      0.2996347579836926,
                      0.0036335849148618872,
                      0.0019038955127587383,
                      0.053534719671229365,
                      0.037509712424777526,
                      0.6803805357911985,
                      -0.01962081894269849,
                      -0.021490027957098715,
                      0.3113087697450989,
                      0.21290105556556793,
                      0.2165133678516537,
                      0.20208860237515264
                    ],
                    [
                      0.010660942645538433,
                      1,
                      -0.00498533735255263,
                      -0.01680643320915763,
                      -0.05099043365447757,
                      0.018354854300385557,
                      0.023381421528320526,
                      0.04613487399781112,
                      0.0029663348551116197,
                      0.030571007837143983,
                      0.007707058872006053,
                      -0.03218160152258194,
                      0.0381534342794098,
                      0.022703677496334968,
                      0.00047329632718855213,
                      0.007846030957248387,
                      0.04214279637720667,
                      0.014514738706320902,
                      0.002452542712083144,
                      -0.03784805100578179,
                      -0.03405476756854742,
                      0.009932014960094215,
                      -0.033228984787772024,
                      -0.026363178228837676
                    ],
                    [
                      -0.00168612014808715,
                      -0.00498533735255263,
                      1,
                      0.021041825624123392,
                      0.032916407199243845,
                      -0.016075326996493524,
                      0.03113058561176572,
                      0.008783279886444255,
                      0.005302730554496216,
                      -0.0036688391677205793,
                      -0.017014444745275862,
                      0.02747286354888413,
                      -0.029250804197293017,
                      0.040235377459193075,
                      0.027109618481976,
                      0.006557474646578779,
                      0.04487199885318152,
                      0.004628425863783857,
                      -0.036942234339915794,
                      -0.02655600410656903,
                      0.009507719899011289,
                      0.018844999108945746,
                      0.010028835943115395,
                      0.014406048430630005
                    ],
                    [
                      0.2080337310142398,
                      -0.01680643320915763,
                      0.021041825624123392,
                      1,
                      0.042070093029327675,
                      -0.027128313256511792,
                      0.01677482888096076,
                      0.042437634318607954,
                      0.10158888624850043,
                      -0.011296116736574002,
                      0.09496067704188883,
                      -0.026084197160047493,
                      0.12631656017668452,
                      -0.011110940860654192,
                      -0.024538791164833557,
                      -0.009118376696381533,
                      0.018422220204016834,
                      0.1482796965388733,
                      -0.025100241137933348,
                      0.00981918930978191,
                      0.06911369603133866,
                      0.06023555412069576,
                      0.054254333591320224,
                      0.06906537825528458
                    ],
                    [
                      -0.0101454670768599,
                      -0.05099043365447757,
                      0.032916407199243845,
                      0.042070093029327675,
                      1,
                      0.017620802485586586,
                      0.035179212418708077,
                      -0.0068879229870375,
                      -0.018519193974227376,
                      -0.04624673493941775,
                      -0.01482851587378469,
                      0.012648229168461627,
                      -0.0012510320398018396,
                      -0.012943995546151714,
                      -0.02035882514695762,
                      -0.06986141146763755,
                      0.06222669251362305,
                      -0.014365198461301121,
                      0.023603169591926734,
                      0.010308641437965905,
                      -0.011240463708114047,
                      -0.008416311998425954,
                      -0.009019064206633414,
                      -0.009196645292770315
                    ],
                    [
                      0.010146427861437268,
                      0.018354854300385557,
                      -0.016075326996493524,
                      -0.027128313256511792,
                      0.017620802485586586,
                      1,
                      -0.04985695620300066,
                      -0.008277598171759099,
                      0.001211699448913883,
                      -0.006784352599075007,
                      -0.0062590877547801654,
                      0.037599622865715374,
                      0.012594323218943297,
                      -0.031701195241792046,
                      -0.02954795229768088,
                      0.007665383541074558,
                      0.0034321577550574162,
                      -0.002693070388534207,
                      -0.01935930834713247,
                      0.027627295460115428,
                      0.0014575491911164862,
                      0.01800746014287853,
                      0.016193605568453326,
                      -0.004998722628107581
                    ],
                    [
                      0.024286542550967197,
                      0.023381421528320526,
                      0.03113058561176572,
                      0.01677482888096076,
                      0.035179212418708077,
                      -0.04985695620300066,
                      1,
                      0.04286064097152976,
                      -0.027853486405547218,
                      -0.07133462437378787,
                      -0.015794304380892982,
                      -0.015296749550649661,
                      0.02215688339019683,
                      -0.00906198625374016,
                      -0.002171697427810162,
                      0.0013304527859508606,
                      0.050263399065119486,
                      -0.002333681823322269,
                      -0.008547685209270649,
                      -0.004607233750264554,
                      -0.019581616209121275,
                      -0.02410622020878498,
                      -0.02671558606433524,
                      -0.020123200184066006
                    ],
                    [
                      0.029819958629590578,
                      0.04613487399781112,
                      0.008783279886444255,
                      0.042437634318607954,
                      -0.0068879229870375,
                      -0.008277598171759099,
                      0.04286064097152976,
                      1,
                      -0.012629882671190631,
                      -0.021475910335306454,
                      -0.015271490778732832,
                      -0.016322079053317298,
                      0.015012413243110999,
                      -0.017204572244480378,
                      -0.029071333439069817,
                      0.034296820611197744,
                      0.021522640378023858,
                      -0.0055331820574074635,
                      -0.015337825759429116,
                      -0.014616593162761865,
                      -0.021355426979629725,
                      0.00871696349761169,
                      -0.024184292365179074,
                      0.025975807949088936
                    ],
                    [
                      0.5096042284323842,
                      0.0029663348551116197,
                      0.005302730554496216,
                      0.10158888624850043,
                      -0.018519193974227376,
                      0.001211699448913883,
                      -0.027853486405547218,
                      -0.012629882671190631,
                      1,
                      -0.0019437080267456581,
                      0.9502999134798473,
                      0.03956295104568388,
                      0.1425011238104873,
                      -0.03473049227941817,
                      -0.021222082108857152,
                      0.021641510532591595,
                      0.013983910528615457,
                      0.7822078045362748,
                      -0.018190550193549416,
                      0.037817745596666404,
                      0.5347386873756308,
                      0.3894467328766705,
                      0.3538853469641021,
                      0.37528060776572636
                    ],
                    [
                      -0.00489187714868713,
                      0.030571007837143983,
                      -0.0036688391677205793,
                      -0.011296116736574002,
                      -0.04624673493941775,
                      -0.006784352599075007,
                      -0.07133462437378787,
                      -0.021475910335306454,
                      -0.0019437080267456581,
                      1,
                      -0.00715674235591272,
                      0.0006439169427037768,
                      -0.05569942601274605,
                      0.020002039364081927,
                      0.0022971970637806114,
                      -0.012453593161926702,
                      0.010690226120755746,
                      -0.020185072685016788,
                      -0.005779334958609115,
                      -0.01945871021297396,
                      -0.0038026279482880534,
                      -0.002304785229830135,
                      -0.01821356781019079,
                      -0.027656213884289974
                    ],
                    [
                      0.4978545669265801,
                      0.007707058872006053,
                      -0.017014444745275862,
                      0.09496067704188883,
                      -0.01482851587378469,
                      -0.0062590877547801654,
                      -0.015794304380892982,
                      -0.015271490778732832,
                      0.9502999134798473,
                      -0.00715674235591272,
                      1,
                      0.034813626134121846,
                      0.14951521598969805,
                      -0.02726858644031447,
                      -0.01712013823739077,
                      0.025873436137557656,
                      0.005407676696812238,
                      0.7728932462543574,
                      -0.02173627682389331,
                      0.030683081556940557,
                      0.5142848257331957,
                      0.3638176669287084,
                      0.3449776381654271,
                      0.34407888325872127
                    ],
                    [
                      0.02805116713392273,
                      -0.03218160152258194,
                      0.02747286354888413,
                      -0.026084197160047493,
                      0.012648229168461627,
                      0.037599622865715374,
                      -0.015296749550649661,
                      -0.016322079053317298,
                      0.03956295104568388,
                      0.0006439169427037768,
                      0.034813626134121846,
                      1,
                      0.017521353415571563,
                      -0.006429345946711407,
                      -0.00981142848936084,
                      -0.004085329337519686,
                      -0.034322830206660805,
                      0.026442471176015385,
                      0.0014668806322858448,
                      0.007963157516977033,
                      -0.023655106706177275,
                      -0.012814874370471728,
                      0.001566799514676175,
                      -0.036745905336769386
                    ],
                    [
                      0.2996347579836926,
                      0.0381534342794098,
                      -0.029250804197293017,
                      0.12631656017668452,
                      -0.0012510320398018396,
                      0.012594323218943297,
                      0.02215688339019683,
                      0.015012413243110999,
                      0.1425011238104873,
                      -0.05569942601274605,
                      0.14951521598969805,
                      0.017521353415571563,
                      1,
                      -0.010238309359925521,
                      -0.014094872753535133,
                      0.05273304856488617,
                      0.030075475096897484,
                      0.23763858978479552,
                      -0.06605407172783646,
                      -0.008365684790058631,
                      -0.11842134024259104,
                      -0.0907539337008081,
                      -0.03681389238350808,
                      -0.11031915543773241
                    ],
                    [
                      0.0036335849148618872,
                      0.022703677496334968,
                      0.040235377459193075,
                      -0.011110940860654192,
                      -0.012943995546151714,
                      -0.031701195241792046,
                      -0.00906198625374016,
                      -0.017204572244480378,
                      -0.03473049227941817,
                      0.020002039364081927,
                      -0.02726858644031447,
                      -0.006429345946711407,
                      -0.010238309359925521,
                      1,
                      0.7735499964012664,
                      -0.04049008105707734,
                      0.0075277478205202026,
                      -0.020608487617691264,
                      -0.005221012351721004,
                      -0.0032796360093680704,
                      -0.03599126243195373,
                      -0.0015200265442777774,
                      -0.022154312598866126,
                      -0.01198524847236139
                    ],
                    [
                      0.0019038955127587383,
                      0.00047329632718855213,
                      0.027109618481976,
                      -0.024538791164833557,
                      -0.02035882514695762,
                      -0.02954795229768088,
                      -0.002171697427810162,
                      -0.029071333439069817,
                      -0.021222082108857152,
                      0.0022971970637806114,
                      -0.01712013823739077,
                      -0.00981142848936084,
                      -0.014094872753535133,
                      0.7735499964012664,
                      1,
                      -0.031351455442454886,
                      0.003506471614809783,
                      0.0067436679059531685,
                      -0.015578881739137565,
                      0.002572361317682639,
                      0.0034351261159238713,
                      0.034986260407194936,
                      0.017896066144799785,
                      0.022827168908479807
                    ],
                    [
                      0.053534719671229365,
                      0.007846030957248387,
                      0.006557474646578779,
                      -0.009118376696381533,
                      -0.06986141146763755,
                      0.007665383541074558,
                      0.0013304527859508606,
                      0.034296820611197744,
                      0.021641510532591595,
                      -0.012453593161926702,
                      0.025873436137557656,
                      -0.004085329337519686,
                      0.05273304856488617,
                      -0.04049008105707734,
                      -0.031351455442454886,
                      1,
                      -0.045952490716561906,
                      0.02405429182134145,
                      0.002496526392116996,
                      0.01960440570396871,
                      0.019366786877455463,
                      -0.015122914881937748,
                      0.033492502069354176,
                      -0.0008674968446256695
                    ],
                    [
                      0.037509712424777526,
                      0.04214279637720667,
                      0.04487199885318152,
                      0.018422220204016834,
                      0.06222669251362305,
                      0.0034321577550574162,
                      0.050263399065119486,
                      0.021522640378023858,
                      0.013983910528615457,
                      0.010690226120755746,
                      0.005407676696812238,
                      -0.034322830206660805,
                      0.030075475096897484,
                      0.0075277478205202026,
                      0.003506471614809783,
                      -0.045952490716561906,
                      1,
                      0.010135969318901629,
                      0.011274069611249207,
                      0.004128730002871338,
                      0.015058008028094509,
                      0.050817872753931646,
                      0.01435218486435548,
                      0.02469822656303012
                    ],
                    [
                      0.6803805357911985,
                      0.014514738706320902,
                      0.004628425863783857,
                      0.1482796965388733,
                      -0.014365198461301121,
                      -0.002693070388534207,
                      -0.002333681823322269,
                      -0.0055331820574074635,
                      0.7822078045362748,
                      -0.020185072685016788,
                      0.7728932462543574,
                      0.026442471176015385,
                      0.23763858978479552,
                      -0.020608487617691264,
                      0.0067436679059531685,
                      0.02405429182134145,
                      0.010135969318901629,
                      1,
                      -0.03566157127961907,
                      0.0010076456218964924,
                      0.6281331552682468,
                      0.46036463801180993,
                      0.4048577585025587,
                      0.45918839708314385
                    ],
                    [
                      -0.01962081894269849,
                      0.002452542712083144,
                      -0.036942234339915794,
                      -0.025100241137933348,
                      0.023603169591926734,
                      -0.01935930834713247,
                      -0.008547685209270649,
                      -0.015337825759429116,
                      -0.018190550193549416,
                      -0.005779334958609115,
                      -0.02173627682389331,
                      0.0014668806322858448,
                      -0.06605407172783646,
                      -0.005221012351721004,
                      -0.015578881739137565,
                      0.002496526392116996,
                      0.011274069611249207,
                      -0.03566157127961907,
                      1,
                      0.02807220660362872,
                      0.003568665678427449,
                      -0.0057375043379568925,
                      -0.0020665360380059438,
                      -0.004095526021226202
                    ],
                    [
                      -0.021490027957098715,
                      -0.03784805100578179,
                      -0.02655600410656903,
                      0.00981918930978191,
                      0.010308641437965905,
                      0.027627295460115428,
                      -0.004607233750264554,
                      -0.014616593162761865,
                      0.037817745596666404,
                      -0.01945871021297396,
                      0.030683081556940557,
                      0.007963157516977033,
                      -0.008365684790058631,
                      -0.0032796360093680704,
                      0.002572361317682639,
                      0.01960440570396871,
                      0.004128730002871338,
                      0.0010076456218964924,
                      0.02807220660362872,
                      1,
                      0.012089185354581315,
                      0.04985649792220436,
                      0.008941249141234323,
                      0.002759440242340428
                    ],
                    [
                      0.3113087697450989,
                      -0.03405476756854742,
                      0.009507719899011289,
                      0.06911369603133866,
                      -0.011240463708114047,
                      0.0014575491911164862,
                      -0.019581616209121275,
                      -0.021355426979629725,
                      0.5347386873756308,
                      -0.0038026279482880534,
                      0.5142848257331957,
                      -0.023655106706177275,
                      -0.11842134024259104,
                      -0.03599126243195373,
                      0.0034351261159238713,
                      0.019366786877455463,
                      0.015058008028094509,
                      0.6281331552682468,
                      0.003568665678427449,
                      0.012089185354581315,
                      1,
                      0.7587537366134619,
                      0.6184088652176047,
                      0.7692124251007031
                    ],
                    [
                      0.21290105556556793,
                      0.009932014960094215,
                      0.018844999108945746,
                      0.06023555412069576,
                      -0.008416311998425954,
                      0.01800746014287853,
                      -0.02410622020878498,
                      0.00871696349761169,
                      0.3894467328766705,
                      -0.002304785229830135,
                      0.3638176669287084,
                      -0.012814874370471728,
                      -0.0907539337008081,
                      -0.0015200265442777774,
                      0.034986260407194936,
                      -0.015122914881937748,
                      0.050817872753931646,
                      0.46036463801180993,
                      -0.0057375043379568925,
                      0.04985649792220436,
                      0.7587537366134619,
                      1,
                      0.5480562476995187,
                      0.7143647616385931
                    ],
                    [
                      0.2165133678516537,
                      -0.033228984787772024,
                      0.010028835943115395,
                      0.054254333591320224,
                      -0.009019064206633414,
                      0.016193605568453326,
                      -0.02671558606433524,
                      -0.024184292365179074,
                      0.3538853469641021,
                      -0.01821356781019079,
                      0.3449776381654271,
                      0.001566799514676175,
                      -0.03681389238350808,
                      -0.022154312598866126,
                      0.017896066144799785,
                      0.033492502069354176,
                      0.01435218486435548,
                      0.4048577585025587,
                      -0.0020665360380059438,
                      0.008941249141234323,
                      0.6184088652176047,
                      0.5480562476995187,
                      1,
                      0.5102236357788085
                    ],
                    [
                      0.20208860237515264,
                      -0.026363178228837676,
                      0.014406048430630005,
                      0.06906537825528458,
                      -0.009196645292770315,
                      -0.004998722628107581,
                      -0.020123200184066006,
                      0.025975807949088936,
                      0.37528060776572636,
                      -0.027656213884289974,
                      0.34407888325872127,
                      -0.036745905336769386,
                      -0.11031915543773241,
                      -0.01198524847236139,
                      0.022827168908479807,
                      -0.0008674968446256695,
                      0.02469822656303012,
                      0.45918839708314385,
                      -0.004095526021226202,
                      0.002759440242340428,
                      0.7692124251007031,
                      0.7143647616385931,
                      0.5102236357788085,
                      1
                    ]
                  ],
                  "type": "heatmap"
                }
              ],
              "layout": {
                "height": 700,
                "template": {
                  "data": {
                    "barpolar": [
                      {
                        "marker": {
                          "line": {
                            "color": "#E5ECF6",
                            "width": 0.5
                          },
                          "pattern": {
                            "fillmode": "overlay",
                            "size": 10,
                            "solidity": 0.2
                          }
                        },
                        "type": "barpolar"
                      }
                    ],
                    "bar": [
                      {
                        "error_x": {
                          "color": "#2a3f5f"
                        },
                        "error_y": {
                          "color": "#2a3f5f"
                        },
                        "marker": {
                          "line": {
                            "color": "#E5ECF6",
                            "width": 0.5
                          },
                          "pattern": {
                            "fillmode": "overlay",
                            "size": 10,
                            "solidity": 0.2
                          }
                        },
                        "type": "bar"
                      }
                    ],
                    "carpet": [
                      {
                        "aaxis": {
                          "endlinecolor": "#2a3f5f",
                          "gridcolor": "white",
                          "linecolor": "white",
                          "minorgridcolor": "white",
                          "startlinecolor": "#2a3f5f"
                        },
                        "baxis": {
                          "endlinecolor": "#2a3f5f",
                          "gridcolor": "white",
                          "linecolor": "white",
                          "minorgridcolor": "white",
                          "startlinecolor": "#2a3f5f"
                        },
                        "type": "carpet"
                      }
                    ],
                    "choropleth": [
                      {
                        "colorbar": {
                          "outlinewidth": 0,
                          "ticks": ""
                        },
                        "type": "choropleth"
                      }
                    ],
                    "contourcarpet": [
                      {
                        "colorbar": {
                          "outlinewidth": 0,
                          "ticks": ""
                        },
                        "type": "contourcarpet"
                      }
                    ],
                    "contour": [
                      {
                        "colorbar": {
                          "outlinewidth": 0,
                          "ticks": ""
                        },
                        "colorscale": [
                          [
                            0,
                            "#0d0887"
                          ],
                          [
                            0.1111111111111111,
                            "#46039f"
                          ],
                          [
                            0.2222222222222222,
                            "#7201a8"
                          ],
                          [
                            0.3333333333333333,
                            "#9c179e"
                          ],
                          [
                            0.4444444444444444,
                            "#bd3786"
                          ],
                          [
                            0.5555555555555556,
                            "#d8576b"
                          ],
                          [
                            0.6666666666666666,
                            "#ed7953"
                          ],
                          [
                            0.7777777777777778,
                            "#fb9f3a"
                          ],
                          [
                            0.8888888888888888,
                            "#fdca26"
                          ],
                          [
                            1,
                            "#f0f921"
                          ]
                        ],
                        "type": "contour"
                      }
                    ],
                    "heatmapgl": [
                      {
                        "colorbar": {
                          "outlinewidth": 0,
                          "ticks": ""
                        },
                        "colorscale": [
                          [
                            0,
                            "#0d0887"
                          ],
                          [
                            0.1111111111111111,
                            "#46039f"
                          ],
                          [
                            0.2222222222222222,
                            "#7201a8"
                          ],
                          [
                            0.3333333333333333,
                            "#9c179e"
                          ],
                          [
                            0.4444444444444444,
                            "#bd3786"
                          ],
                          [
                            0.5555555555555556,
                            "#d8576b"
                          ],
                          [
                            0.6666666666666666,
                            "#ed7953"
                          ],
                          [
                            0.7777777777777778,
                            "#fb9f3a"
                          ],
                          [
                            0.8888888888888888,
                            "#fdca26"
                          ],
                          [
                            1,
                            "#f0f921"
                          ]
                        ],
                        "type": "heatmapgl"
                      }
                    ],
                    "heatmap": [
                      {
                        "colorbar": {
                          "outlinewidth": 0,
                          "ticks": ""
                        },
                        "colorscale": [
                          [
                            0,
                            "#0d0887"
                          ],
                          [
                            0.1111111111111111,
                            "#46039f"
                          ],
                          [
                            0.2222222222222222,
                            "#7201a8"
                          ],
                          [
                            0.3333333333333333,
                            "#9c179e"
                          ],
                          [
                            0.4444444444444444,
                            "#bd3786"
                          ],
                          [
                            0.5555555555555556,
                            "#d8576b"
                          ],
                          [
                            0.6666666666666666,
                            "#ed7953"
                          ],
                          [
                            0.7777777777777778,
                            "#fb9f3a"
                          ],
                          [
                            0.8888888888888888,
                            "#fdca26"
                          ],
                          [
                            1,
                            "#f0f921"
                          ]
                        ],
                        "type": "heatmap"
                      }
                    ],
                    "histogram2dcontour": [
                      {
                        "colorbar": {
                          "outlinewidth": 0,
                          "ticks": ""
                        },
                        "colorscale": [
                          [
                            0,
                            "#0d0887"
                          ],
                          [
                            0.1111111111111111,
                            "#46039f"
                          ],
                          [
                            0.2222222222222222,
                            "#7201a8"
                          ],
                          [
                            0.3333333333333333,
                            "#9c179e"
                          ],
                          [
                            0.4444444444444444,
                            "#bd3786"
                          ],
                          [
                            0.5555555555555556,
                            "#d8576b"
                          ],
                          [
                            0.6666666666666666,
                            "#ed7953"
                          ],
                          [
                            0.7777777777777778,
                            "#fb9f3a"
                          ],
                          [
                            0.8888888888888888,
                            "#fdca26"
                          ],
                          [
                            1,
                            "#f0f921"
                          ]
                        ],
                        "type": "histogram2dcontour"
                      }
                    ],
                    "histogram2d": [
                      {
                        "colorbar": {
                          "outlinewidth": 0,
                          "ticks": ""
                        },
                        "colorscale": [
                          [
                            0,
                            "#0d0887"
                          ],
                          [
                            0.1111111111111111,
                            "#46039f"
                          ],
                          [
                            0.2222222222222222,
                            "#7201a8"
                          ],
                          [
                            0.3333333333333333,
                            "#9c179e"
                          ],
                          [
                            0.4444444444444444,
                            "#bd3786"
                          ],
                          [
                            0.5555555555555556,
                            "#d8576b"
                          ],
                          [
                            0.6666666666666666,
                            "#ed7953"
                          ],
                          [
                            0.7777777777777778,
                            "#fb9f3a"
                          ],
                          [
                            0.8888888888888888,
                            "#fdca26"
                          ],
                          [
                            1,
                            "#f0f921"
                          ]
                        ],
                        "type": "histogram2d"
                      }
                    ],
                    "histogram": [
                      {
                        "marker": {
                          "pattern": {
                            "fillmode": "overlay",
                            "size": 10,
                            "solidity": 0.2
                          }
                        },
                        "type": "histogram"
                      }
                    ],
                    "mesh3d": [
                      {
                        "colorbar": {
                          "outlinewidth": 0,
                          "ticks": ""
                        },
                        "type": "mesh3d"
                      }
                    ],
                    "parcoords": [
                      {
                        "line": {
                          "colorbar": {
                            "outlinewidth": 0,
                            "ticks": ""
                          }
                        },
                        "type": "parcoords"
                      }
                    ],
                    "pie": [
                      {
                        "automargin": true,
                        "type": "pie"
                      }
                    ],
                    "scatter3d": [
                      {
                        "line": {
                          "colorbar": {
                            "outlinewidth": 0,
                            "ticks": ""
                          }
                        },
                        "marker": {
                          "colorbar": {
                            "outlinewidth": 0,
                            "ticks": ""
                          }
                        },
                        "type": "scatter3d"
                      }
                    ],
                    "scattercarpet": [
                      {
                        "marker": {
                          "colorbar": {
                            "outlinewidth": 0,
                            "ticks": ""
                          }
                        },
                        "type": "scattercarpet"
                      }
                    ],
                    "scattergeo": [
                      {
                        "marker": {
                          "colorbar": {
                            "outlinewidth": 0,
                            "ticks": ""
                          }
                        },
                        "type": "scattergeo"
                      }
                    ],
                    "scattergl": [
                      {
                        "marker": {
                          "colorbar": {
                            "outlinewidth": 0,
                            "ticks": ""
                          }
                        },
                        "type": "scattergl"
                      }
                    ],
                    "scattermapbox": [
                      {
                        "marker": {
                          "colorbar": {
                            "outlinewidth": 0,
                            "ticks": ""
                          }
                        },
                        "type": "scattermapbox"
                      }
                    ],
                    "scatterpolargl": [
                      {
                        "marker": {
                          "colorbar": {
                            "outlinewidth": 0,
                            "ticks": ""
                          }
                        },
                        "type": "scatterpolargl"
                      }
                    ],
                    "scatterpolar": [
                      {
                        "marker": {
                          "colorbar": {
                            "outlinewidth": 0,
                            "ticks": ""
                          }
                        },
                        "type": "scatterpolar"
                      }
                    ],
                    "scatter": [
                      {
                        "fillpattern": {
                          "fillmode": "overlay",
                          "size": 10,
                          "solidity": 0.2
                        },
                        "type": "scatter"
                      }
                    ],
                    "scatterternary": [
                      {
                        "marker": {
                          "colorbar": {
                            "outlinewidth": 0,
                            "ticks": ""
                          }
                        },
                        "type": "scatterternary"
                      }
                    ],
                    "surface": [
                      {
                        "colorbar": {
                          "outlinewidth": 0,
                          "ticks": ""
                        },
                        "colorscale": [
                          [
                            0,
                            "#0d0887"
                          ],
                          [
                            0.1111111111111111,
                            "#46039f"
                          ],
                          [
                            0.2222222222222222,
                            "#7201a8"
                          ],
                          [
                            0.3333333333333333,
                            "#9c179e"
                          ],
                          [
                            0.4444444444444444,
                            "#bd3786"
                          ],
                          [
                            0.5555555555555556,
                            "#d8576b"
                          ],
                          [
                            0.6666666666666666,
                            "#ed7953"
                          ],
                          [
                            0.7777777777777778,
                            "#fb9f3a"
                          ],
                          [
                            0.8888888888888888,
                            "#fdca26"
                          ],
                          [
                            1,
                            "#f0f921"
                          ]
                        ],
                        "type": "surface"
                      }
                    ],
                    "table": [
                      {
                        "cells": {
                          "fill": {
                            "color": "#EBF0F8"
                          },
                          "line": {
                            "color": "white"
                          }
                        },
                        "header": {
                          "fill": {
                            "color": "#C8D4E3"
                          },
                          "line": {
                            "color": "white"
                          }
                        },
                        "type": "table"
                      }
                    ]
                  },
                  "layout": {
                    "annotationdefaults": {
                      "arrowcolor": "#2a3f5f",
                      "arrowhead": 0,
                      "arrowwidth": 1
                    },
                    "autotypenumbers": "strict",
                    "coloraxis": {
                      "colorbar": {
                        "outlinewidth": 0,
                        "ticks": ""
                      }
                    },
                    "colorscale": {
                      "diverging": [
                        [
                          0,
                          "#8e0152"
                        ],
                        [
                          0.1,
                          "#c51b7d"
                        ],
                        [
                          0.2,
                          "#de77ae"
                        ],
                        [
                          0.3,
                          "#f1b6da"
                        ],
                        [
                          0.4,
                          "#fde0ef"
                        ],
                        [
                          0.5,
                          "#f7f7f7"
                        ],
                        [
                          0.6,
                          "#e6f5d0"
                        ],
                        [
                          0.7,
                          "#b8e186"
                        ],
                        [
                          0.8,
                          "#7fbc41"
                        ],
                        [
                          0.9,
                          "#4d9221"
                        ],
                        [
                          1,
                          "#276419"
                        ]
                      ],
                      "sequential": [
                        [
                          0,
                          "#0d0887"
                        ],
                        [
                          0.1111111111111111,
                          "#46039f"
                        ],
                        [
                          0.2222222222222222,
                          "#7201a8"
                        ],
                        [
                          0.3333333333333333,
                          "#9c179e"
                        ],
                        [
                          0.4444444444444444,
                          "#bd3786"
                        ],
                        [
                          0.5555555555555556,
                          "#d8576b"
                        ],
                        [
                          0.6666666666666666,
                          "#ed7953"
                        ],
                        [
                          0.7777777777777778,
                          "#fb9f3a"
                        ],
                        [
                          0.8888888888888888,
                          "#fdca26"
                        ],
                        [
                          1,
                          "#f0f921"
                        ]
                      ],
                      "sequentialminus": [
                        [
                          0,
                          "#0d0887"
                        ],
                        [
                          0.1111111111111111,
                          "#46039f"
                        ],
                        [
                          0.2222222222222222,
                          "#7201a8"
                        ],
                        [
                          0.3333333333333333,
                          "#9c179e"
                        ],
                        [
                          0.4444444444444444,
                          "#bd3786"
                        ],
                        [
                          0.5555555555555556,
                          "#d8576b"
                        ],
                        [
                          0.6666666666666666,
                          "#ed7953"
                        ],
                        [
                          0.7777777777777778,
                          "#fb9f3a"
                        ],
                        [
                          0.8888888888888888,
                          "#fdca26"
                        ],
                        [
                          1,
                          "#f0f921"
                        ]
                      ]
                    },
                    "colorway": [
                      "#636efa",
                      "#EF553B",
                      "#00cc96",
                      "#ab63fa",
                      "#FFA15A",
                      "#19d3f3",
                      "#FF6692",
                      "#B6E880",
                      "#FF97FF",
                      "#FECB52"
                    ],
                    "font": {
                      "color": "#2a3f5f"
                    },
                    "geo": {
                      "bgcolor": "white",
                      "lakecolor": "white",
                      "landcolor": "#E5ECF6",
                      "showlakes": true,
                      "showland": true,
                      "subunitcolor": "white"
                    },
                    "hoverlabel": {
                      "align": "left"
                    },
                    "hovermode": "closest",
                    "mapbox": {
                      "style": "light"
                    },
                    "paper_bgcolor": "white",
                    "plot_bgcolor": "#E5ECF6",
                    "polar": {
                      "angularaxis": {
                        "gridcolor": "white",
                        "linecolor": "white",
                        "ticks": ""
                      },
                      "bgcolor": "#E5ECF6",
                      "radialaxis": {
                        "gridcolor": "white",
                        "linecolor": "white",
                        "ticks": ""
                      }
                    },
                    "scene": {
                      "xaxis": {
                        "backgroundcolor": "#E5ECF6",
                        "gridcolor": "white",
                        "gridwidth": 2,
                        "linecolor": "white",
                        "showbackground": true,
                        "ticks": "",
                        "zerolinecolor": "white"
                      },
                      "yaxis": {
                        "backgroundcolor": "#E5ECF6",
                        "gridcolor": "white",
                        "gridwidth": 2,
                        "linecolor": "white",
                        "showbackground": true,
                        "ticks": "",
                        "zerolinecolor": "white"
                      },
                      "zaxis": {
                        "backgroundcolor": "#E5ECF6",
                        "gridcolor": "white",
                        "gridwidth": 2,
                        "linecolor": "white",
                        "showbackground": true,
                        "ticks": "",
                        "zerolinecolor": "white"
                      }
                    },
                    "shapedefaults": {
                      "line": {
                        "color": "#2a3f5f"
                      }
                    },
                    "ternary": {
                      "aaxis": {
                        "gridcolor": "white",
                        "linecolor": "white",
                        "ticks": ""
                      },
                      "baxis": {
                        "gridcolor": "white",
                        "linecolor": "white",
                        "ticks": ""
                      },
                      "bgcolor": "#E5ECF6",
                      "caxis": {
                        "gridcolor": "white",
                        "linecolor": "white",
                        "ticks": ""
                      }
                    },
                    "title": {
                      "x": 0.05
                    },
                    "xaxis": {
                      "automargin": true,
                      "gridcolor": "white",
                      "linecolor": "white",
                      "ticks": "",
                      "title": {
                        "standoff": 15
                      },
                      "zerolinecolor": "white",
                      "zerolinewidth": 2
                    },
                    "yaxis": {
                      "automargin": true,
                      "gridcolor": "white",
                      "linecolor": "white",
                      "ticks": "",
                      "title": {
                        "standoff": 15
                      },
                      "zerolinecolor": "white",
                      "zerolinewidth": 2
                    }
                  }
                },
                "title": {
                  "text": "Pearson Correlation of numerical features"
                },
                "width": 900,
                "xaxis": {
                  "nticks": 36,
                  "ticks": ""
                },
                "yaxis": {
                  "ticks": ""
                }
              },
              "config": {
                "showLink": false,
                "linkText": "Export to plot.ly",
                "plotlyServerURL": "https://plot.ly"
              }
            },
            "text/html": [
              "<div>                            <div id=\"18588a9a-a5ac-474a-9d41-0da83fb9f0c1\" class=\"plotly-graph-div\" style=\"height:700px; width:900px;\"></div>            <script type=\"text/javascript\">                require([\"plotly\"], function(Plotly) {                    window.PLOTLYENV=window.PLOTLYENV || {};                                    if (document.getElementById(\"18588a9a-a5ac-474a-9d41-0da83fb9f0c1\")) {                    Plotly.newPlot(                        \"18588a9a-a5ac-474a-9d41-0da83fb9f0c1\",                        [{\"colorscale\":[[0.0,\"#440154\"],[0.1111111111111111,\"#482878\"],[0.2222222222222222,\"#3e4989\"],[0.3333333333333333,\"#31688e\"],[0.4444444444444444,\"#26828e\"],[0.5555555555555556,\"#1f9e89\"],[0.6666666666666666,\"#35b779\"],[0.7777777777777778,\"#6ece58\"],[0.8888888888888888,\"#b5de2b\"],[1.0,\"#fde725\"]],\"opacity\":1.0,\"reversescale\":false,\"x\":[\"Age\",\"DailyRate\",\"DistanceFromHome\",\"Education\",\"EmployeeNumber\",\"EnvironmentSatisfaction\",\"HourlyRate\",\"JobInvolvement\",\"JobLevel\",\"JobSatisfaction\",\"MonthlyIncome\",\"MonthlyRate\",\"NumCompaniesWorked\",\"PercentSalaryHike\",\"PerformanceRating\",\"RelationshipSatisfaction\",\"StockOptionLevel\",\"TotalWorkingYears\",\"TrainingTimesLastYear\",\"WorkLifeBalance\",\"YearsAtCompany\",\"YearsInCurrentRole\",\"YearsSinceLastPromotion\",\"YearsWithCurrManager\"],\"y\":[\"Age\",\"DailyRate\",\"DistanceFromHome\",\"Education\",\"EmployeeNumber\",\"EnvironmentSatisfaction\",\"HourlyRate\",\"JobInvolvement\",\"JobLevel\",\"JobSatisfaction\",\"MonthlyIncome\",\"MonthlyRate\",\"NumCompaniesWorked\",\"PercentSalaryHike\",\"PerformanceRating\",\"RelationshipSatisfaction\",\"StockOptionLevel\",\"TotalWorkingYears\",\"TrainingTimesLastYear\",\"WorkLifeBalance\",\"YearsAtCompany\",\"YearsInCurrentRole\",\"YearsSinceLastPromotion\",\"YearsWithCurrManager\"],\"z\":[[1.0,0.010660942645538433,-0.00168612014808715,0.2080337310142398,-0.0101454670768599,0.010146427861437268,0.024286542550967197,0.029819958629590578,0.5096042284323842,-0.00489187714868713,0.4978545669265801,0.02805116713392273,0.2996347579836926,0.0036335849148618872,0.0019038955127587383,0.053534719671229365,0.037509712424777526,0.6803805357911985,-0.01962081894269849,-0.021490027957098715,0.3113087697450989,0.21290105556556793,0.2165133678516537,0.20208860237515264],[0.010660942645538433,1.0,-0.00498533735255263,-0.01680643320915763,-0.05099043365447757,0.018354854300385557,0.023381421528320526,0.04613487399781112,0.0029663348551116197,0.030571007837143983,0.007707058872006053,-0.03218160152258194,0.0381534342794098,0.022703677496334968,0.00047329632718855213,0.007846030957248387,0.04214279637720667,0.014514738706320902,0.002452542712083144,-0.03784805100578179,-0.03405476756854742,0.009932014960094215,-0.033228984787772024,-0.026363178228837676],[-0.00168612014808715,-0.00498533735255263,1.0,0.021041825624123392,0.032916407199243845,-0.016075326996493524,0.03113058561176572,0.008783279886444255,0.005302730554496216,-0.0036688391677205793,-0.017014444745275862,0.02747286354888413,-0.029250804197293017,0.040235377459193075,0.027109618481976,0.006557474646578779,0.04487199885318152,0.004628425863783857,-0.036942234339915794,-0.02655600410656903,0.009507719899011289,0.018844999108945746,0.010028835943115395,0.014406048430630005],[0.2080337310142398,-0.01680643320915763,0.021041825624123392,1.0,0.042070093029327675,-0.027128313256511792,0.01677482888096076,0.042437634318607954,0.10158888624850043,-0.011296116736574002,0.09496067704188883,-0.026084197160047493,0.12631656017668452,-0.011110940860654192,-0.024538791164833557,-0.009118376696381533,0.018422220204016834,0.1482796965388733,-0.025100241137933348,0.00981918930978191,0.06911369603133866,0.06023555412069576,0.054254333591320224,0.06906537825528458],[-0.0101454670768599,-0.05099043365447757,0.032916407199243845,0.042070093029327675,1.0,0.017620802485586586,0.035179212418708077,-0.0068879229870375,-0.018519193974227376,-0.04624673493941775,-0.01482851587378469,0.012648229168461627,-0.0012510320398018396,-0.012943995546151714,-0.02035882514695762,-0.06986141146763755,0.06222669251362305,-0.014365198461301121,0.023603169591926734,0.010308641437965905,-0.011240463708114047,-0.008416311998425954,-0.009019064206633414,-0.009196645292770315],[0.010146427861437268,0.018354854300385557,-0.016075326996493524,-0.027128313256511792,0.017620802485586586,1.0,-0.04985695620300066,-0.008277598171759099,0.001211699448913883,-0.006784352599075007,-0.0062590877547801654,0.037599622865715374,0.012594323218943297,-0.031701195241792046,-0.02954795229768088,0.007665383541074558,0.0034321577550574162,-0.002693070388534207,-0.01935930834713247,0.027627295460115428,0.0014575491911164862,0.01800746014287853,0.016193605568453326,-0.004998722628107581],[0.024286542550967197,0.023381421528320526,0.03113058561176572,0.01677482888096076,0.035179212418708077,-0.04985695620300066,1.0,0.04286064097152976,-0.027853486405547218,-0.07133462437378787,-0.015794304380892982,-0.015296749550649661,0.02215688339019683,-0.00906198625374016,-0.002171697427810162,0.0013304527859508606,0.050263399065119486,-0.002333681823322269,-0.008547685209270649,-0.004607233750264554,-0.019581616209121275,-0.02410622020878498,-0.02671558606433524,-0.020123200184066006],[0.029819958629590578,0.04613487399781112,0.008783279886444255,0.042437634318607954,-0.0068879229870375,-0.008277598171759099,0.04286064097152976,1.0,-0.012629882671190631,-0.021475910335306454,-0.015271490778732832,-0.016322079053317298,0.015012413243110999,-0.017204572244480378,-0.029071333439069817,0.034296820611197744,0.021522640378023858,-0.0055331820574074635,-0.015337825759429116,-0.014616593162761865,-0.021355426979629725,0.00871696349761169,-0.024184292365179074,0.025975807949088936],[0.5096042284323842,0.0029663348551116197,0.005302730554496216,0.10158888624850043,-0.018519193974227376,0.001211699448913883,-0.027853486405547218,-0.012629882671190631,1.0,-0.0019437080267456581,0.9502999134798473,0.03956295104568388,0.1425011238104873,-0.03473049227941817,-0.021222082108857152,0.021641510532591595,0.013983910528615457,0.7822078045362748,-0.018190550193549416,0.037817745596666404,0.5347386873756308,0.3894467328766705,0.3538853469641021,0.37528060776572636],[-0.00489187714868713,0.030571007837143983,-0.0036688391677205793,-0.011296116736574002,-0.04624673493941775,-0.006784352599075007,-0.07133462437378787,-0.021475910335306454,-0.0019437080267456581,1.0,-0.00715674235591272,0.0006439169427037768,-0.05569942601274605,0.020002039364081927,0.0022971970637806114,-0.012453593161926702,0.010690226120755746,-0.020185072685016788,-0.005779334958609115,-0.01945871021297396,-0.0038026279482880534,-0.002304785229830135,-0.01821356781019079,-0.027656213884289974],[0.4978545669265801,0.007707058872006053,-0.017014444745275862,0.09496067704188883,-0.01482851587378469,-0.0062590877547801654,-0.015794304380892982,-0.015271490778732832,0.9502999134798473,-0.00715674235591272,1.0,0.034813626134121846,0.14951521598969805,-0.02726858644031447,-0.01712013823739077,0.025873436137557656,0.005407676696812238,0.7728932462543574,-0.02173627682389331,0.030683081556940557,0.5142848257331957,0.3638176669287084,0.3449776381654271,0.34407888325872127],[0.02805116713392273,-0.03218160152258194,0.02747286354888413,-0.026084197160047493,0.012648229168461627,0.037599622865715374,-0.015296749550649661,-0.016322079053317298,0.03956295104568388,0.0006439169427037768,0.034813626134121846,1.0,0.017521353415571563,-0.006429345946711407,-0.00981142848936084,-0.004085329337519686,-0.034322830206660805,0.026442471176015385,0.0014668806322858448,0.007963157516977033,-0.023655106706177275,-0.012814874370471728,0.001566799514676175,-0.036745905336769386],[0.2996347579836926,0.0381534342794098,-0.029250804197293017,0.12631656017668452,-0.0012510320398018396,0.012594323218943297,0.02215688339019683,0.015012413243110999,0.1425011238104873,-0.05569942601274605,0.14951521598969805,0.017521353415571563,1.0,-0.010238309359925521,-0.014094872753535133,0.05273304856488617,0.030075475096897484,0.23763858978479552,-0.06605407172783646,-0.008365684790058631,-0.11842134024259104,-0.0907539337008081,-0.03681389238350808,-0.11031915543773241],[0.0036335849148618872,0.022703677496334968,0.040235377459193075,-0.011110940860654192,-0.012943995546151714,-0.031701195241792046,-0.00906198625374016,-0.017204572244480378,-0.03473049227941817,0.020002039364081927,-0.02726858644031447,-0.006429345946711407,-0.010238309359925521,1.0,0.7735499964012664,-0.04049008105707734,0.0075277478205202026,-0.020608487617691264,-0.005221012351721004,-0.0032796360093680704,-0.03599126243195373,-0.0015200265442777774,-0.022154312598866126,-0.01198524847236139],[0.0019038955127587383,0.00047329632718855213,0.027109618481976,-0.024538791164833557,-0.02035882514695762,-0.02954795229768088,-0.002171697427810162,-0.029071333439069817,-0.021222082108857152,0.0022971970637806114,-0.01712013823739077,-0.00981142848936084,-0.014094872753535133,0.7735499964012664,1.0,-0.031351455442454886,0.003506471614809783,0.0067436679059531685,-0.015578881739137565,0.002572361317682639,0.0034351261159238713,0.034986260407194936,0.017896066144799785,0.022827168908479807],[0.053534719671229365,0.007846030957248387,0.006557474646578779,-0.009118376696381533,-0.06986141146763755,0.007665383541074558,0.0013304527859508606,0.034296820611197744,0.021641510532591595,-0.012453593161926702,0.025873436137557656,-0.004085329337519686,0.05273304856488617,-0.04049008105707734,-0.031351455442454886,1.0,-0.045952490716561906,0.02405429182134145,0.002496526392116996,0.01960440570396871,0.019366786877455463,-0.015122914881937748,0.033492502069354176,-0.0008674968446256695],[0.037509712424777526,0.04214279637720667,0.04487199885318152,0.018422220204016834,0.06222669251362305,0.0034321577550574162,0.050263399065119486,0.021522640378023858,0.013983910528615457,0.010690226120755746,0.005407676696812238,-0.034322830206660805,0.030075475096897484,0.0075277478205202026,0.003506471614809783,-0.045952490716561906,1.0,0.010135969318901629,0.011274069611249207,0.004128730002871338,0.015058008028094509,0.050817872753931646,0.01435218486435548,0.02469822656303012],[0.6803805357911985,0.014514738706320902,0.004628425863783857,0.1482796965388733,-0.014365198461301121,-0.002693070388534207,-0.002333681823322269,-0.0055331820574074635,0.7822078045362748,-0.020185072685016788,0.7728932462543574,0.026442471176015385,0.23763858978479552,-0.020608487617691264,0.0067436679059531685,0.02405429182134145,0.010135969318901629,1.0,-0.03566157127961907,0.0010076456218964924,0.6281331552682468,0.46036463801180993,0.4048577585025587,0.45918839708314385],[-0.01962081894269849,0.002452542712083144,-0.036942234339915794,-0.025100241137933348,0.023603169591926734,-0.01935930834713247,-0.008547685209270649,-0.015337825759429116,-0.018190550193549416,-0.005779334958609115,-0.02173627682389331,0.0014668806322858448,-0.06605407172783646,-0.005221012351721004,-0.015578881739137565,0.002496526392116996,0.011274069611249207,-0.03566157127961907,1.0,0.02807220660362872,0.003568665678427449,-0.0057375043379568925,-0.0020665360380059438,-0.004095526021226202],[-0.021490027957098715,-0.03784805100578179,-0.02655600410656903,0.00981918930978191,0.010308641437965905,0.027627295460115428,-0.004607233750264554,-0.014616593162761865,0.037817745596666404,-0.01945871021297396,0.030683081556940557,0.007963157516977033,-0.008365684790058631,-0.0032796360093680704,0.002572361317682639,0.01960440570396871,0.004128730002871338,0.0010076456218964924,0.02807220660362872,1.0,0.012089185354581315,0.04985649792220436,0.008941249141234323,0.002759440242340428],[0.3113087697450989,-0.03405476756854742,0.009507719899011289,0.06911369603133866,-0.011240463708114047,0.0014575491911164862,-0.019581616209121275,-0.021355426979629725,0.5347386873756308,-0.0038026279482880534,0.5142848257331957,-0.023655106706177275,-0.11842134024259104,-0.03599126243195373,0.0034351261159238713,0.019366786877455463,0.015058008028094509,0.6281331552682468,0.003568665678427449,0.012089185354581315,1.0,0.7587537366134619,0.6184088652176047,0.7692124251007031],[0.21290105556556793,0.009932014960094215,0.018844999108945746,0.06023555412069576,-0.008416311998425954,0.01800746014287853,-0.02410622020878498,0.00871696349761169,0.3894467328766705,-0.002304785229830135,0.3638176669287084,-0.012814874370471728,-0.0907539337008081,-0.0015200265442777774,0.034986260407194936,-0.015122914881937748,0.050817872753931646,0.46036463801180993,-0.0057375043379568925,0.04985649792220436,0.7587537366134619,1.0,0.5480562476995187,0.7143647616385931],[0.2165133678516537,-0.033228984787772024,0.010028835943115395,0.054254333591320224,-0.009019064206633414,0.016193605568453326,-0.02671558606433524,-0.024184292365179074,0.3538853469641021,-0.01821356781019079,0.3449776381654271,0.001566799514676175,-0.03681389238350808,-0.022154312598866126,0.017896066144799785,0.033492502069354176,0.01435218486435548,0.4048577585025587,-0.0020665360380059438,0.008941249141234323,0.6184088652176047,0.5480562476995187,1.0,0.5102236357788085],[0.20208860237515264,-0.026363178228837676,0.014406048430630005,0.06906537825528458,-0.009196645292770315,-0.004998722628107581,-0.020123200184066006,0.025975807949088936,0.37528060776572636,-0.027656213884289974,0.34407888325872127,-0.036745905336769386,-0.11031915543773241,-0.01198524847236139,0.022827168908479807,-0.0008674968446256695,0.02469822656303012,0.45918839708314385,-0.004095526021226202,0.002759440242340428,0.7692124251007031,0.7143647616385931,0.5102236357788085,1.0]],\"type\":\"heatmap\"}],                        {\"height\":700,\"template\":{\"data\":{\"barpolar\":[{\"marker\":{\"line\":{\"color\":\"#E5ECF6\",\"width\":0.5},\"pattern\":{\"fillmode\":\"overlay\",\"size\":10,\"solidity\":0.2}},\"type\":\"barpolar\"}],\"bar\":[{\"error_x\":{\"color\":\"#2a3f5f\"},\"error_y\":{\"color\":\"#2a3f5f\"},\"marker\":{\"line\":{\"color\":\"#E5ECF6\",\"width\":0.5},\"pattern\":{\"fillmode\":\"overlay\",\"size\":10,\"solidity\":0.2}},\"type\":\"bar\"}],\"carpet\":[{\"aaxis\":{\"endlinecolor\":\"#2a3f5f\",\"gridcolor\":\"white\",\"linecolor\":\"white\",\"minorgridcolor\":\"white\",\"startlinecolor\":\"#2a3f5f\"},\"baxis\":{\"endlinecolor\":\"#2a3f5f\",\"gridcolor\":\"white\",\"linecolor\":\"white\",\"minorgridcolor\":\"white\",\"startlinecolor\":\"#2a3f5f\"},\"type\":\"carpet\"}],\"choropleth\":[{\"colorbar\":{\"outlinewidth\":0,\"ticks\":\"\"},\"type\":\"choropleth\"}],\"contourcarpet\":[{\"colorbar\":{\"outlinewidth\":0,\"ticks\":\"\"},\"type\":\"contourcarpet\"}],\"contour\":[{\"colorbar\":{\"outlinewidth\":0,\"ticks\":\"\"},\"colorscale\":[[0.0,\"#0d0887\"],[0.1111111111111111,\"#46039f\"],[0.2222222222222222,\"#7201a8\"],[0.3333333333333333,\"#9c179e\"],[0.4444444444444444,\"#bd3786\"],[0.5555555555555556,\"#d8576b\"],[0.6666666666666666,\"#ed7953\"],[0.7777777777777778,\"#fb9f3a\"],[0.8888888888888888,\"#fdca26\"],[1.0,\"#f0f921\"]],\"type\":\"contour\"}],\"heatmapgl\":[{\"colorbar\":{\"outlinewidth\":0,\"ticks\":\"\"},\"colorscale\":[[0.0,\"#0d0887\"],[0.1111111111111111,\"#46039f\"],[0.2222222222222222,\"#7201a8\"],[0.3333333333333333,\"#9c179e\"],[0.4444444444444444,\"#bd3786\"],[0.5555555555555556,\"#d8576b\"],[0.6666666666666666,\"#ed7953\"],[0.7777777777777778,\"#fb9f3a\"],[0.8888888888888888,\"#fdca26\"],[1.0,\"#f0f921\"]],\"type\":\"heatmapgl\"}],\"heatmap\":[{\"colorbar\":{\"outlinewidth\":0,\"ticks\":\"\"},\"colorscale\":[[0.0,\"#0d0887\"],[0.1111111111111111,\"#46039f\"],[0.2222222222222222,\"#7201a8\"],[0.3333333333333333,\"#9c179e\"],[0.4444444444444444,\"#bd3786\"],[0.5555555555555556,\"#d8576b\"],[0.6666666666666666,\"#ed7953\"],[0.7777777777777778,\"#fb9f3a\"],[0.8888888888888888,\"#fdca26\"],[1.0,\"#f0f921\"]],\"type\":\"heatmap\"}],\"histogram2dcontour\":[{\"colorbar\":{\"outlinewidth\":0,\"ticks\":\"\"},\"colorscale\":[[0.0,\"#0d0887\"],[0.1111111111111111,\"#46039f\"],[0.2222222222222222,\"#7201a8\"],[0.3333333333333333,\"#9c179e\"],[0.4444444444444444,\"#bd3786\"],[0.5555555555555556,\"#d8576b\"],[0.6666666666666666,\"#ed7953\"],[0.7777777777777778,\"#fb9f3a\"],[0.8888888888888888,\"#fdca26\"],[1.0,\"#f0f921\"]],\"type\":\"histogram2dcontour\"}],\"histogram2d\":[{\"colorbar\":{\"outlinewidth\":0,\"ticks\":\"\"},\"colorscale\":[[0.0,\"#0d0887\"],[0.1111111111111111,\"#46039f\"],[0.2222222222222222,\"#7201a8\"],[0.3333333333333333,\"#9c179e\"],[0.4444444444444444,\"#bd3786\"],[0.5555555555555556,\"#d8576b\"],[0.6666666666666666,\"#ed7953\"],[0.7777777777777778,\"#fb9f3a\"],[0.8888888888888888,\"#fdca26\"],[1.0,\"#f0f921\"]],\"type\":\"histogram2d\"}],\"histogram\":[{\"marker\":{\"pattern\":{\"fillmode\":\"overlay\",\"size\":10,\"solidity\":0.2}},\"type\":\"histogram\"}],\"mesh3d\":[{\"colorbar\":{\"outlinewidth\":0,\"ticks\":\"\"},\"type\":\"mesh3d\"}],\"parcoords\":[{\"line\":{\"colorbar\":{\"outlinewidth\":0,\"ticks\":\"\"}},\"type\":\"parcoords\"}],\"pie\":[{\"automargin\":true,\"type\":\"pie\"}],\"scatter3d\":[{\"line\":{\"colorbar\":{\"outlinewidth\":0,\"ticks\":\"\"}},\"marker\":{\"colorbar\":{\"outlinewidth\":0,\"ticks\":\"\"}},\"type\":\"scatter3d\"}],\"scattercarpet\":[{\"marker\":{\"colorbar\":{\"outlinewidth\":0,\"ticks\":\"\"}},\"type\":\"scattercarpet\"}],\"scattergeo\":[{\"marker\":{\"colorbar\":{\"outlinewidth\":0,\"ticks\":\"\"}},\"type\":\"scattergeo\"}],\"scattergl\":[{\"marker\":{\"colorbar\":{\"outlinewidth\":0,\"ticks\":\"\"}},\"type\":\"scattergl\"}],\"scattermapbox\":[{\"marker\":{\"colorbar\":{\"outlinewidth\":0,\"ticks\":\"\"}},\"type\":\"scattermapbox\"}],\"scatterpolargl\":[{\"marker\":{\"colorbar\":{\"outlinewidth\":0,\"ticks\":\"\"}},\"type\":\"scatterpolargl\"}],\"scatterpolar\":[{\"marker\":{\"colorbar\":{\"outlinewidth\":0,\"ticks\":\"\"}},\"type\":\"scatterpolar\"}],\"scatter\":[{\"fillpattern\":{\"fillmode\":\"overlay\",\"size\":10,\"solidity\":0.2},\"type\":\"scatter\"}],\"scatterternary\":[{\"marker\":{\"colorbar\":{\"outlinewidth\":0,\"ticks\":\"\"}},\"type\":\"scatterternary\"}],\"surface\":[{\"colorbar\":{\"outlinewidth\":0,\"ticks\":\"\"},\"colorscale\":[[0.0,\"#0d0887\"],[0.1111111111111111,\"#46039f\"],[0.2222222222222222,\"#7201a8\"],[0.3333333333333333,\"#9c179e\"],[0.4444444444444444,\"#bd3786\"],[0.5555555555555556,\"#d8576b\"],[0.6666666666666666,\"#ed7953\"],[0.7777777777777778,\"#fb9f3a\"],[0.8888888888888888,\"#fdca26\"],[1.0,\"#f0f921\"]],\"type\":\"surface\"}],\"table\":[{\"cells\":{\"fill\":{\"color\":\"#EBF0F8\"},\"line\":{\"color\":\"white\"}},\"header\":{\"fill\":{\"color\":\"#C8D4E3\"},\"line\":{\"color\":\"white\"}},\"type\":\"table\"}]},\"layout\":{\"annotationdefaults\":{\"arrowcolor\":\"#2a3f5f\",\"arrowhead\":0,\"arrowwidth\":1},\"autotypenumbers\":\"strict\",\"coloraxis\":{\"colorbar\":{\"outlinewidth\":0,\"ticks\":\"\"}},\"colorscale\":{\"diverging\":[[0,\"#8e0152\"],[0.1,\"#c51b7d\"],[0.2,\"#de77ae\"],[0.3,\"#f1b6da\"],[0.4,\"#fde0ef\"],[0.5,\"#f7f7f7\"],[0.6,\"#e6f5d0\"],[0.7,\"#b8e186\"],[0.8,\"#7fbc41\"],[0.9,\"#4d9221\"],[1,\"#276419\"]],\"sequential\":[[0.0,\"#0d0887\"],[0.1111111111111111,\"#46039f\"],[0.2222222222222222,\"#7201a8\"],[0.3333333333333333,\"#9c179e\"],[0.4444444444444444,\"#bd3786\"],[0.5555555555555556,\"#d8576b\"],[0.6666666666666666,\"#ed7953\"],[0.7777777777777778,\"#fb9f3a\"],[0.8888888888888888,\"#fdca26\"],[1.0,\"#f0f921\"]],\"sequentialminus\":[[0.0,\"#0d0887\"],[0.1111111111111111,\"#46039f\"],[0.2222222222222222,\"#7201a8\"],[0.3333333333333333,\"#9c179e\"],[0.4444444444444444,\"#bd3786\"],[0.5555555555555556,\"#d8576b\"],[0.6666666666666666,\"#ed7953\"],[0.7777777777777778,\"#fb9f3a\"],[0.8888888888888888,\"#fdca26\"],[1.0,\"#f0f921\"]]},\"colorway\":[\"#636efa\",\"#EF553B\",\"#00cc96\",\"#ab63fa\",\"#FFA15A\",\"#19d3f3\",\"#FF6692\",\"#B6E880\",\"#FF97FF\",\"#FECB52\"],\"font\":{\"color\":\"#2a3f5f\"},\"geo\":{\"bgcolor\":\"white\",\"lakecolor\":\"white\",\"landcolor\":\"#E5ECF6\",\"showlakes\":true,\"showland\":true,\"subunitcolor\":\"white\"},\"hoverlabel\":{\"align\":\"left\"},\"hovermode\":\"closest\",\"mapbox\":{\"style\":\"light\"},\"paper_bgcolor\":\"white\",\"plot_bgcolor\":\"#E5ECF6\",\"polar\":{\"angularaxis\":{\"gridcolor\":\"white\",\"linecolor\":\"white\",\"ticks\":\"\"},\"bgcolor\":\"#E5ECF6\",\"radialaxis\":{\"gridcolor\":\"white\",\"linecolor\":\"white\",\"ticks\":\"\"}},\"scene\":{\"xaxis\":{\"backgroundcolor\":\"#E5ECF6\",\"gridcolor\":\"white\",\"gridwidth\":2,\"linecolor\":\"white\",\"showbackground\":true,\"ticks\":\"\",\"zerolinecolor\":\"white\"},\"yaxis\":{\"backgroundcolor\":\"#E5ECF6\",\"gridcolor\":\"white\",\"gridwidth\":2,\"linecolor\":\"white\",\"showbackground\":true,\"ticks\":\"\",\"zerolinecolor\":\"white\"},\"zaxis\":{\"backgroundcolor\":\"#E5ECF6\",\"gridcolor\":\"white\",\"gridwidth\":2,\"linecolor\":\"white\",\"showbackground\":true,\"ticks\":\"\",\"zerolinecolor\":\"white\"}},\"shapedefaults\":{\"line\":{\"color\":\"#2a3f5f\"}},\"ternary\":{\"aaxis\":{\"gridcolor\":\"white\",\"linecolor\":\"white\",\"ticks\":\"\"},\"baxis\":{\"gridcolor\":\"white\",\"linecolor\":\"white\",\"ticks\":\"\"},\"bgcolor\":\"#E5ECF6\",\"caxis\":{\"gridcolor\":\"white\",\"linecolor\":\"white\",\"ticks\":\"\"}},\"title\":{\"x\":0.05},\"xaxis\":{\"automargin\":true,\"gridcolor\":\"white\",\"linecolor\":\"white\",\"ticks\":\"\",\"title\":{\"standoff\":15},\"zerolinecolor\":\"white\",\"zerolinewidth\":2},\"yaxis\":{\"automargin\":true,\"gridcolor\":\"white\",\"linecolor\":\"white\",\"ticks\":\"\",\"title\":{\"standoff\":15},\"zerolinecolor\":\"white\",\"zerolinewidth\":2}}},\"title\":{\"text\":\"Pearson Correlation of numerical features\"},\"width\":900,\"xaxis\":{\"nticks\":36,\"ticks\":\"\"},\"yaxis\":{\"ticks\":\"\"}},                        {\"responsive\": true}                    ).then(function(){\n",
              "                            \n",
              "var gd = document.getElementById('18588a9a-a5ac-474a-9d41-0da83fb9f0c1');\n",
              "var x = new MutationObserver(function (mutations, observer) {{\n",
              "        var display = window.getComputedStyle(gd).display;\n",
              "        if (!display || display === 'none') {{\n",
              "            console.log([gd, 'removed!']);\n",
              "            Plotly.purge(gd);\n",
              "            observer.disconnect();\n",
              "        }}\n",
              "}});\n",
              "\n",
              "// Listen for the removal of the full notebook cells\n",
              "var notebookContainer = gd.closest('#notebook-container');\n",
              "if (notebookContainer) {{\n",
              "    x.observe(notebookContainer, {childList: true});\n",
              "}}\n",
              "\n",
              "// Listen for the clearing of the current output cell\n",
              "var outputEl = gd.closest('.output');\n",
              "if (outputEl) {{\n",
              "    x.observe(outputEl, {childList: true});\n",
              "}}\n",
              "\n",
              "                        })                };                });            </script>        </div>"
            ]
          },
          "metadata": {}
        }
      ]
    },
    {
      "cell_type": "code",
      "source": [
        "print(attrition.columns)"
      ],
      "metadata": {
        "colab": {
          "base_uri": "https://localhost:8080/"
        },
        "id": "FVOuTUyIk_cr",
        "outputId": "af0cf9c8-9746-40b6-f9ce-edf3a0988bf4"
      },
      "execution_count": 17,
      "outputs": [
        {
          "output_type": "stream",
          "name": "stdout",
          "text": [
            "Index(['Age', 'Attrition', 'BusinessTravel', 'DailyRate', 'Department',\n",
            "       'DistanceFromHome', 'Education', 'EducationField', 'EmployeeCount',\n",
            "       'EmployeeNumber', 'EnvironmentSatisfaction', 'Gender', 'HourlyRate',\n",
            "       'JobInvolvement', 'JobLevel', 'JobRole', 'JobSatisfaction',\n",
            "       'MaritalStatus', 'MonthlyIncome', 'MonthlyRate', 'NumCompaniesWorked',\n",
            "       'Over18', 'OverTime', 'PercentSalaryHike', 'PerformanceRating',\n",
            "       'RelationshipSatisfaction', 'StandardHours', 'StockOptionLevel',\n",
            "       'TotalWorkingYears', 'TrainingTimesLastYear', 'WorkLifeBalance',\n",
            "       'YearsAtCompany', 'YearsInCurrentRole', 'YearsSinceLastPromotion',\n",
            "       'YearsWithCurrManager'],\n",
            "      dtype='object')\n"
          ]
        }
      ]
    },
    {
      "cell_type": "code",
      "source": [
        "if 'Attrition_numerical' in attrition.columns:\n",
        "    attrition = attrition.drop(['Attrition_numerical'], axis=1)\n"
      ],
      "metadata": {
        "id": "aqyt3zWClZlO"
      },
      "execution_count": 18,
      "outputs": []
    },
    {
      "cell_type": "code",
      "source": [
        "attrition = attrition.drop(['Attrition_numerical'], axis=1, errors='ignore')\n"
      ],
      "metadata": {
        "id": "KNhb-lXglcal"
      },
      "execution_count": 19,
      "outputs": []
    },
    {
      "cell_type": "code",
      "source": [
        "print(attrition.columns)\n"
      ],
      "metadata": {
        "colab": {
          "base_uri": "https://localhost:8080/"
        },
        "id": "b1poWQU0leXj",
        "outputId": "a2b5b86a-53fc-4cc6-95b4-63113684cd5d"
      },
      "execution_count": 20,
      "outputs": [
        {
          "output_type": "stream",
          "name": "stdout",
          "text": [
            "Index(['Age', 'Attrition', 'BusinessTravel', 'DailyRate', 'Department',\n",
            "       'DistanceFromHome', 'Education', 'EducationField', 'EmployeeCount',\n",
            "       'EmployeeNumber', 'EnvironmentSatisfaction', 'Gender', 'HourlyRate',\n",
            "       'JobInvolvement', 'JobLevel', 'JobRole', 'JobSatisfaction',\n",
            "       'MaritalStatus', 'MonthlyIncome', 'MonthlyRate', 'NumCompaniesWorked',\n",
            "       'Over18', 'OverTime', 'PercentSalaryHike', 'PerformanceRating',\n",
            "       'RelationshipSatisfaction', 'StandardHours', 'StockOptionLevel',\n",
            "       'TotalWorkingYears', 'TrainingTimesLastYear', 'WorkLifeBalance',\n",
            "       'YearsAtCompany', 'YearsInCurrentRole', 'YearsSinceLastPromotion',\n",
            "       'YearsWithCurrManager'],\n",
            "      dtype='object')\n"
          ]
        }
      ]
    },
    {
      "cell_type": "code",
      "source": [
        "# Drop the 'Attrition_numerical' column if it exists\n",
        "attrition = attrition.drop(['Attrition_numerical'], axis=1, errors='ignore')\n",
        "\n",
        "# Empty list to store columns with categorical data\n",
        "categorical = []\n",
        "for col, value in attrition.items():\n",
        "    if value.dtype == 'object':\n",
        "        categorical.append(col)\n",
        "\n",
        "# Store the numerical columns in a list\n",
        "numerical = attrition.columns.difference(categorical)\n"
      ],
      "metadata": {
        "id": "rJwNPMfplf2h"
      },
      "execution_count": 22,
      "outputs": []
    },
    {
      "cell_type": "code",
      "source": [
        "attrition_cat = attrition[categorical]\n",
        "attrition_cat = attrition_cat.drop(['Attrition'], axis=1) # Dropping the target column\n",
        "attrition_cat = pd.get_dummies(attrition_cat)\n",
        "attrition_cat.head(3)\n",
        "attrition_num = attrition[numerical]\n",
        "attrition_final = pd.concat([attrition_num, attrition_cat], axis=1)"
      ],
      "metadata": {
        "id": "T7bI_S0flpL_"
      },
      "execution_count": 23,
      "outputs": []
    },
    {
      "cell_type": "code",
      "source": [
        "target_map = {'Yes':1, 'No':0}\n",
        "# Use the pandas apply method to numerically encode our attrition target variable\n",
        "target = attrition[\"Attrition\"].apply(lambda x: target_map[x])"
      ],
      "metadata": {
        "id": "ruDjLtemlttr"
      },
      "execution_count": 24,
      "outputs": []
    },
    {
      "cell_type": "code",
      "source": [
        "from sklearn.model_selection import train_test_split, StratifiedShuffleSplit\n",
        "\n",
        "# Split data into train and test sets\n",
        "train, test, target_train, target_test = train_test_split(\n",
        "    attrition_final,\n",
        "    target,\n",
        "    train_size=0.80,\n",
        "    random_state=0\n",
        ")\n",
        "\n",
        "# If you need StratifiedShuffleSplit, here’s how to use it:\n",
        "split = StratifiedShuffleSplit(n_splits=1, test_size=0.20, random_state=0)\n",
        "for train_index, test_index in split.split(attrition_final, target):\n",
        "    train, test = attrition_final.iloc[train_index], attrition_final.iloc[test_index]\n",
        "    target_train, target_test = target.iloc[train_index], target.iloc[test_index]\n"
      ],
      "metadata": {
        "id": "vwpWDyGYlxEA"
      },
      "execution_count": 26,
      "outputs": []
    },
    {
      "cell_type": "code",
      "source": [
        "pip install imbalanced-learn"
      ],
      "metadata": {
        "colab": {
          "base_uri": "https://localhost:8080/"
        },
        "id": "sdrocBh0l0jt",
        "outputId": "fe6256bf-3d0a-442c-ef5a-be607357c08e"
      },
      "execution_count": 29,
      "outputs": [
        {
          "output_type": "stream",
          "name": "stdout",
          "text": [
            "Requirement already satisfied: imbalanced-learn in /usr/local/lib/python3.10/dist-packages (0.12.3)\n",
            "Requirement already satisfied: numpy>=1.17.3 in /usr/local/lib/python3.10/dist-packages (from imbalanced-learn) (1.26.4)\n",
            "Requirement already satisfied: scipy>=1.5.0 in /usr/local/lib/python3.10/dist-packages (from imbalanced-learn) (1.13.1)\n",
            "Requirement already satisfied: scikit-learn>=1.0.2 in /usr/local/lib/python3.10/dist-packages (from imbalanced-learn) (1.3.2)\n",
            "Requirement already satisfied: joblib>=1.1.1 in /usr/local/lib/python3.10/dist-packages (from imbalanced-learn) (1.4.2)\n",
            "Requirement already satisfied: threadpoolctl>=2.0.0 in /usr/local/lib/python3.10/dist-packages (from imbalanced-learn) (3.5.0)\n"
          ]
        }
      ]
    },
    {
      "cell_type": "code",
      "source": [
        "from imblearn.over_sampling import SMOTE\n",
        "from sklearn.ensemble import RandomForestClassifier\n",
        "from sklearn.metrics import accuracy_score, classification_report\n",
        "from sklearn.model_selection import train_test_split\n",
        "\n",
        "# Split data into train, validation, and test sets\n",
        "train, test, target_train, target_test = train_test_split(\n",
        "    attrition_final,\n",
        "    target,\n",
        "    train_size=0.80,\n",
        "    random_state=0\n",
        ")\n",
        "\n",
        "train, val, target_train, target_val = train_test_split(\n",
        "    train,\n",
        "    target_train,\n",
        "    train_size=0.80,\n",
        "    random_state=0\n",
        ")\n",
        "\n",
        "# Initialize SMOTE\n",
        "oversampler = SMOTE(random_state=0)\n",
        "\n",
        "# Resample the training data\n",
        "smote_train, smote_target = oversampler.fit_resample(train, target_train)\n",
        "\n",
        "# Random Forest parameters\n",
        "seed = 0\n",
        "rf_params = {\n",
        "    'n_jobs': -1,\n",
        "    'n_estimators': 1000,\n",
        "    'max_features': 'sqrt',\n",
        "    'max_depth': 4,\n",
        "    'min_samples_leaf': 2,\n",
        "    'random_state': seed,\n",
        "    'verbose': 0\n",
        "}\n",
        "\n",
        "# Initialize and fit Random Forest\n",
        "rf = RandomForestClassifier(**rf_params)\n",
        "rf.fit(smote_train, smote_target)\n",
        "\n",
        "# Predict and evaluate\n",
        "rf_predictions = rf.predict(test)\n",
        "print(\"Accuracy score: {}\".format(accuracy_score(target_test, rf_predictions)))\n",
        "print(\"=\"*80)\n",
        "print(classification_report(target_test, rf_predictions))\n"
      ],
      "metadata": {
        "colab": {
          "base_uri": "https://localhost:8080/"
        },
        "id": "bvO8jeH6mOQw",
        "outputId": "59b92bfb-78a6-424d-a24a-6e59295d7282"
      },
      "execution_count": 31,
      "outputs": [
        {
          "output_type": "stream",
          "name": "stdout",
          "text": [
            "Accuracy score: 0.8435374149659864\n",
            "================================================================================\n",
            "              precision    recall  f1-score   support\n",
            "\n",
            "           0       0.89      0.93      0.91       245\n",
            "           1       0.54      0.41      0.47        49\n",
            "\n",
            "    accuracy                           0.84       294\n",
            "   macro avg       0.71      0.67      0.69       294\n",
            "weighted avg       0.83      0.84      0.83       294\n",
            "\n"
          ]
        }
      ]
    },
    {
      "cell_type": "code",
      "source": [
        "trace = go.Scatter(\n",
        "    y = rf.feature_importances_,\n",
        "    x = attrition_final.columns.values,\n",
        "    mode='markers',\n",
        "    marker=dict(\n",
        "        sizemode = 'diameter',\n",
        "        sizeref = 1,\n",
        "        size = 13,\n",
        "        #size= rf.feature_importances_,\n",
        "        #color = np.random.randn(500), #set color equal to a variable\n",
        "        color = rf.feature_importances_,\n",
        "        colorscale='Portland',\n",
        "        showscale=True\n",
        "    ),\n",
        "    text = attrition_final.columns.values\n",
        ")\n",
        "data = [trace]\n",
        "\n",
        "layout= go.Layout(\n",
        "    autosize= True,\n",
        "    title= 'Random Forest Feature Importance',\n",
        "    hovermode= 'closest',\n",
        "     xaxis= dict(\n",
        "         ticklen= 5,\n",
        "         showgrid=False,\n",
        "        zeroline=False,\n",
        "        showline=False\n",
        "     ),\n",
        "    yaxis=dict(\n",
        "        title= 'Feature Importance',\n",
        "        showgrid=False,\n",
        "        zeroline=False,\n",
        "        ticklen= 5,\n",
        "        gridwidth= 2\n",
        "    ),\n",
        "    showlegend= False\n",
        ")\n",
        "fig = go.Figure(data=data, layout=layout)\n",
        "py.iplot(fig,filename='scatter2010')"
      ],
      "metadata": {
        "colab": {
          "base_uri": "https://localhost:8080/",
          "height": 542
        },
        "id": "vMiDhlwKmQdJ",
        "outputId": "3f09f7d1-1e14-4a24-ab1e-bc7a804c02f3"
      },
      "execution_count": 33,
      "outputs": [
        {
          "output_type": "display_data",
          "data": {
            "application/vnd.plotly.v1+json": {
              "data": [
                {
                  "marker": {
                    "color": [
                      0.032778704800171206,
                      0.010004704777654801,
                      0.00711640798906968,
                      0.0028089665507573455,
                      0,
                      0.006261177018723882,
                      0.01431175818650837,
                      0.005480705579346235,
                      0.027961822053212796,
                      0.08130111077913837,
                      0.061827601920093074,
                      0.05973502774123103,
                      0.00777546247728299,
                      0.0027007218757652426,
                      0.0035525668569865295,
                      0.002570004407644363,
                      0.011770128768731129,
                      0,
                      0.05862704120709369,
                      0.0354728839289185,
                      0.010200909967470355,
                      0.019582314315241777,
                      0.02688369336735662,
                      0.03084541419506819,
                      0.0033389943286016815,
                      0.027648373955743526,
                      0.00955642494558727,
                      0.0015730367985792872,
                      0.02712213047865138,
                      0.0006151689408884514,
                      0.024022663480606967,
                      0.0045794586346432796,
                      0.000047475244149682156,
                      0.03558685134834703,
                      0.0004985551742523071,
                      0.028427033988334405,
                      0.0010754360903845396,
                      0.0007538636713929778,
                      0.016290535182695506,
                      0.004534526187985154,
                      0.0013454888179964166,
                      0.0002675893721758962,
                      0.0013889221416814907,
                      0.0007890579111074976,
                      0.00809109442109931,
                      0.0006599955849121015,
                      0.010012752550382717,
                      0.002256157516518217,
                      0.00023620012520946337,
                      0.02776510468637282,
                      0.037112028461464046,
                      0.005390467754058198,
                      0,
                      0.18526818209216944,
                      0.014177301350542812
                    ],
                    "colorscale": [
                      [
                        0,
                        "rgb(12,51,131)"
                      ],
                      [
                        0.25,
                        "rgb(10,136,186)"
                      ],
                      [
                        0.5,
                        "rgb(242,211,56)"
                      ],
                      [
                        0.75,
                        "rgb(242,143,56)"
                      ],
                      [
                        1,
                        "rgb(217,30,30)"
                      ]
                    ],
                    "showscale": true,
                    "size": 13,
                    "sizemode": "diameter",
                    "sizeref": 1
                  },
                  "mode": "markers",
                  "text": [
                    "Age",
                    "DailyRate",
                    "DistanceFromHome",
                    "Education",
                    "EmployeeCount",
                    "EmployeeNumber",
                    "EnvironmentSatisfaction",
                    "HourlyRate",
                    "JobInvolvement",
                    "JobLevel",
                    "JobSatisfaction",
                    "MonthlyIncome",
                    "MonthlyRate",
                    "NumCompaniesWorked",
                    "PercentSalaryHike",
                    "PerformanceRating",
                    "RelationshipSatisfaction",
                    "StandardHours",
                    "StockOptionLevel",
                    "TotalWorkingYears",
                    "TrainingTimesLastYear",
                    "WorkLifeBalance",
                    "YearsAtCompany",
                    "YearsInCurrentRole",
                    "YearsSinceLastPromotion",
                    "YearsWithCurrManager",
                    "BusinessTravel_Non-Travel",
                    "BusinessTravel_Travel_Frequently",
                    "BusinessTravel_Travel_Rarely",
                    "Department_Human Resources",
                    "Department_Research & Development",
                    "Department_Sales",
                    "EducationField_Human Resources",
                    "EducationField_Life Sciences",
                    "EducationField_Marketing",
                    "EducationField_Medical",
                    "EducationField_Other",
                    "EducationField_Technical Degree",
                    "Gender_Female",
                    "Gender_Male",
                    "JobRole_Healthcare Representative",
                    "JobRole_Human Resources",
                    "JobRole_Laboratory Technician",
                    "JobRole_Manager",
                    "JobRole_Manufacturing Director",
                    "JobRole_Research Director",
                    "JobRole_Research Scientist",
                    "JobRole_Sales Executive",
                    "JobRole_Sales Representative",
                    "MaritalStatus_Divorced",
                    "MaritalStatus_Married",
                    "MaritalStatus_Single",
                    "Over18_Y",
                    "OverTime_No",
                    "OverTime_Yes"
                  ],
                  "x": [
                    "Age",
                    "DailyRate",
                    "DistanceFromHome",
                    "Education",
                    "EmployeeCount",
                    "EmployeeNumber",
                    "EnvironmentSatisfaction",
                    "HourlyRate",
                    "JobInvolvement",
                    "JobLevel",
                    "JobSatisfaction",
                    "MonthlyIncome",
                    "MonthlyRate",
                    "NumCompaniesWorked",
                    "PercentSalaryHike",
                    "PerformanceRating",
                    "RelationshipSatisfaction",
                    "StandardHours",
                    "StockOptionLevel",
                    "TotalWorkingYears",
                    "TrainingTimesLastYear",
                    "WorkLifeBalance",
                    "YearsAtCompany",
                    "YearsInCurrentRole",
                    "YearsSinceLastPromotion",
                    "YearsWithCurrManager",
                    "BusinessTravel_Non-Travel",
                    "BusinessTravel_Travel_Frequently",
                    "BusinessTravel_Travel_Rarely",
                    "Department_Human Resources",
                    "Department_Research & Development",
                    "Department_Sales",
                    "EducationField_Human Resources",
                    "EducationField_Life Sciences",
                    "EducationField_Marketing",
                    "EducationField_Medical",
                    "EducationField_Other",
                    "EducationField_Technical Degree",
                    "Gender_Female",
                    "Gender_Male",
                    "JobRole_Healthcare Representative",
                    "JobRole_Human Resources",
                    "JobRole_Laboratory Technician",
                    "JobRole_Manager",
                    "JobRole_Manufacturing Director",
                    "JobRole_Research Director",
                    "JobRole_Research Scientist",
                    "JobRole_Sales Executive",
                    "JobRole_Sales Representative",
                    "MaritalStatus_Divorced",
                    "MaritalStatus_Married",
                    "MaritalStatus_Single",
                    "Over18_Y",
                    "OverTime_No",
                    "OverTime_Yes"
                  ],
                  "y": [
                    0.032778704800171206,
                    0.010004704777654801,
                    0.00711640798906968,
                    0.0028089665507573455,
                    0,
                    0.006261177018723882,
                    0.01431175818650837,
                    0.005480705579346235,
                    0.027961822053212796,
                    0.08130111077913837,
                    0.061827601920093074,
                    0.05973502774123103,
                    0.00777546247728299,
                    0.0027007218757652426,
                    0.0035525668569865295,
                    0.002570004407644363,
                    0.011770128768731129,
                    0,
                    0.05862704120709369,
                    0.0354728839289185,
                    0.010200909967470355,
                    0.019582314315241777,
                    0.02688369336735662,
                    0.03084541419506819,
                    0.0033389943286016815,
                    0.027648373955743526,
                    0.00955642494558727,
                    0.0015730367985792872,
                    0.02712213047865138,
                    0.0006151689408884514,
                    0.024022663480606967,
                    0.0045794586346432796,
                    0.000047475244149682156,
                    0.03558685134834703,
                    0.0004985551742523071,
                    0.028427033988334405,
                    0.0010754360903845396,
                    0.0007538636713929778,
                    0.016290535182695506,
                    0.004534526187985154,
                    0.0013454888179964166,
                    0.0002675893721758962,
                    0.0013889221416814907,
                    0.0007890579111074976,
                    0.00809109442109931,
                    0.0006599955849121015,
                    0.010012752550382717,
                    0.002256157516518217,
                    0.00023620012520946337,
                    0.02776510468637282,
                    0.037112028461464046,
                    0.005390467754058198,
                    0,
                    0.18526818209216944,
                    0.014177301350542812
                  ],
                  "type": "scatter"
                }
              ],
              "layout": {
                "autosize": true,
                "hovermode": "closest",
                "showlegend": false,
                "template": {
                  "data": {
                    "barpolar": [
                      {
                        "marker": {
                          "line": {
                            "color": "#E5ECF6",
                            "width": 0.5
                          },
                          "pattern": {
                            "fillmode": "overlay",
                            "size": 10,
                            "solidity": 0.2
                          }
                        },
                        "type": "barpolar"
                      }
                    ],
                    "bar": [
                      {
                        "error_x": {
                          "color": "#2a3f5f"
                        },
                        "error_y": {
                          "color": "#2a3f5f"
                        },
                        "marker": {
                          "line": {
                            "color": "#E5ECF6",
                            "width": 0.5
                          },
                          "pattern": {
                            "fillmode": "overlay",
                            "size": 10,
                            "solidity": 0.2
                          }
                        },
                        "type": "bar"
                      }
                    ],
                    "carpet": [
                      {
                        "aaxis": {
                          "endlinecolor": "#2a3f5f",
                          "gridcolor": "white",
                          "linecolor": "white",
                          "minorgridcolor": "white",
                          "startlinecolor": "#2a3f5f"
                        },
                        "baxis": {
                          "endlinecolor": "#2a3f5f",
                          "gridcolor": "white",
                          "linecolor": "white",
                          "minorgridcolor": "white",
                          "startlinecolor": "#2a3f5f"
                        },
                        "type": "carpet"
                      }
                    ],
                    "choropleth": [
                      {
                        "colorbar": {
                          "outlinewidth": 0,
                          "ticks": ""
                        },
                        "type": "choropleth"
                      }
                    ],
                    "contourcarpet": [
                      {
                        "colorbar": {
                          "outlinewidth": 0,
                          "ticks": ""
                        },
                        "type": "contourcarpet"
                      }
                    ],
                    "contour": [
                      {
                        "colorbar": {
                          "outlinewidth": 0,
                          "ticks": ""
                        },
                        "colorscale": [
                          [
                            0,
                            "#0d0887"
                          ],
                          [
                            0.1111111111111111,
                            "#46039f"
                          ],
                          [
                            0.2222222222222222,
                            "#7201a8"
                          ],
                          [
                            0.3333333333333333,
                            "#9c179e"
                          ],
                          [
                            0.4444444444444444,
                            "#bd3786"
                          ],
                          [
                            0.5555555555555556,
                            "#d8576b"
                          ],
                          [
                            0.6666666666666666,
                            "#ed7953"
                          ],
                          [
                            0.7777777777777778,
                            "#fb9f3a"
                          ],
                          [
                            0.8888888888888888,
                            "#fdca26"
                          ],
                          [
                            1,
                            "#f0f921"
                          ]
                        ],
                        "type": "contour"
                      }
                    ],
                    "heatmapgl": [
                      {
                        "colorbar": {
                          "outlinewidth": 0,
                          "ticks": ""
                        },
                        "colorscale": [
                          [
                            0,
                            "#0d0887"
                          ],
                          [
                            0.1111111111111111,
                            "#46039f"
                          ],
                          [
                            0.2222222222222222,
                            "#7201a8"
                          ],
                          [
                            0.3333333333333333,
                            "#9c179e"
                          ],
                          [
                            0.4444444444444444,
                            "#bd3786"
                          ],
                          [
                            0.5555555555555556,
                            "#d8576b"
                          ],
                          [
                            0.6666666666666666,
                            "#ed7953"
                          ],
                          [
                            0.7777777777777778,
                            "#fb9f3a"
                          ],
                          [
                            0.8888888888888888,
                            "#fdca26"
                          ],
                          [
                            1,
                            "#f0f921"
                          ]
                        ],
                        "type": "heatmapgl"
                      }
                    ],
                    "heatmap": [
                      {
                        "colorbar": {
                          "outlinewidth": 0,
                          "ticks": ""
                        },
                        "colorscale": [
                          [
                            0,
                            "#0d0887"
                          ],
                          [
                            0.1111111111111111,
                            "#46039f"
                          ],
                          [
                            0.2222222222222222,
                            "#7201a8"
                          ],
                          [
                            0.3333333333333333,
                            "#9c179e"
                          ],
                          [
                            0.4444444444444444,
                            "#bd3786"
                          ],
                          [
                            0.5555555555555556,
                            "#d8576b"
                          ],
                          [
                            0.6666666666666666,
                            "#ed7953"
                          ],
                          [
                            0.7777777777777778,
                            "#fb9f3a"
                          ],
                          [
                            0.8888888888888888,
                            "#fdca26"
                          ],
                          [
                            1,
                            "#f0f921"
                          ]
                        ],
                        "type": "heatmap"
                      }
                    ],
                    "histogram2dcontour": [
                      {
                        "colorbar": {
                          "outlinewidth": 0,
                          "ticks": ""
                        },
                        "colorscale": [
                          [
                            0,
                            "#0d0887"
                          ],
                          [
                            0.1111111111111111,
                            "#46039f"
                          ],
                          [
                            0.2222222222222222,
                            "#7201a8"
                          ],
                          [
                            0.3333333333333333,
                            "#9c179e"
                          ],
                          [
                            0.4444444444444444,
                            "#bd3786"
                          ],
                          [
                            0.5555555555555556,
                            "#d8576b"
                          ],
                          [
                            0.6666666666666666,
                            "#ed7953"
                          ],
                          [
                            0.7777777777777778,
                            "#fb9f3a"
                          ],
                          [
                            0.8888888888888888,
                            "#fdca26"
                          ],
                          [
                            1,
                            "#f0f921"
                          ]
                        ],
                        "type": "histogram2dcontour"
                      }
                    ],
                    "histogram2d": [
                      {
                        "colorbar": {
                          "outlinewidth": 0,
                          "ticks": ""
                        },
                        "colorscale": [
                          [
                            0,
                            "#0d0887"
                          ],
                          [
                            0.1111111111111111,
                            "#46039f"
                          ],
                          [
                            0.2222222222222222,
                            "#7201a8"
                          ],
                          [
                            0.3333333333333333,
                            "#9c179e"
                          ],
                          [
                            0.4444444444444444,
                            "#bd3786"
                          ],
                          [
                            0.5555555555555556,
                            "#d8576b"
                          ],
                          [
                            0.6666666666666666,
                            "#ed7953"
                          ],
                          [
                            0.7777777777777778,
                            "#fb9f3a"
                          ],
                          [
                            0.8888888888888888,
                            "#fdca26"
                          ],
                          [
                            1,
                            "#f0f921"
                          ]
                        ],
                        "type": "histogram2d"
                      }
                    ],
                    "histogram": [
                      {
                        "marker": {
                          "pattern": {
                            "fillmode": "overlay",
                            "size": 10,
                            "solidity": 0.2
                          }
                        },
                        "type": "histogram"
                      }
                    ],
                    "mesh3d": [
                      {
                        "colorbar": {
                          "outlinewidth": 0,
                          "ticks": ""
                        },
                        "type": "mesh3d"
                      }
                    ],
                    "parcoords": [
                      {
                        "line": {
                          "colorbar": {
                            "outlinewidth": 0,
                            "ticks": ""
                          }
                        },
                        "type": "parcoords"
                      }
                    ],
                    "pie": [
                      {
                        "automargin": true,
                        "type": "pie"
                      }
                    ],
                    "scatter3d": [
                      {
                        "line": {
                          "colorbar": {
                            "outlinewidth": 0,
                            "ticks": ""
                          }
                        },
                        "marker": {
                          "colorbar": {
                            "outlinewidth": 0,
                            "ticks": ""
                          }
                        },
                        "type": "scatter3d"
                      }
                    ],
                    "scattercarpet": [
                      {
                        "marker": {
                          "colorbar": {
                            "outlinewidth": 0,
                            "ticks": ""
                          }
                        },
                        "type": "scattercarpet"
                      }
                    ],
                    "scattergeo": [
                      {
                        "marker": {
                          "colorbar": {
                            "outlinewidth": 0,
                            "ticks": ""
                          }
                        },
                        "type": "scattergeo"
                      }
                    ],
                    "scattergl": [
                      {
                        "marker": {
                          "colorbar": {
                            "outlinewidth": 0,
                            "ticks": ""
                          }
                        },
                        "type": "scattergl"
                      }
                    ],
                    "scattermapbox": [
                      {
                        "marker": {
                          "colorbar": {
                            "outlinewidth": 0,
                            "ticks": ""
                          }
                        },
                        "type": "scattermapbox"
                      }
                    ],
                    "scatterpolargl": [
                      {
                        "marker": {
                          "colorbar": {
                            "outlinewidth": 0,
                            "ticks": ""
                          }
                        },
                        "type": "scatterpolargl"
                      }
                    ],
                    "scatterpolar": [
                      {
                        "marker": {
                          "colorbar": {
                            "outlinewidth": 0,
                            "ticks": ""
                          }
                        },
                        "type": "scatterpolar"
                      }
                    ],
                    "scatter": [
                      {
                        "fillpattern": {
                          "fillmode": "overlay",
                          "size": 10,
                          "solidity": 0.2
                        },
                        "type": "scatter"
                      }
                    ],
                    "scatterternary": [
                      {
                        "marker": {
                          "colorbar": {
                            "outlinewidth": 0,
                            "ticks": ""
                          }
                        },
                        "type": "scatterternary"
                      }
                    ],
                    "surface": [
                      {
                        "colorbar": {
                          "outlinewidth": 0,
                          "ticks": ""
                        },
                        "colorscale": [
                          [
                            0,
                            "#0d0887"
                          ],
                          [
                            0.1111111111111111,
                            "#46039f"
                          ],
                          [
                            0.2222222222222222,
                            "#7201a8"
                          ],
                          [
                            0.3333333333333333,
                            "#9c179e"
                          ],
                          [
                            0.4444444444444444,
                            "#bd3786"
                          ],
                          [
                            0.5555555555555556,
                            "#d8576b"
                          ],
                          [
                            0.6666666666666666,
                            "#ed7953"
                          ],
                          [
                            0.7777777777777778,
                            "#fb9f3a"
                          ],
                          [
                            0.8888888888888888,
                            "#fdca26"
                          ],
                          [
                            1,
                            "#f0f921"
                          ]
                        ],
                        "type": "surface"
                      }
                    ],
                    "table": [
                      {
                        "cells": {
                          "fill": {
                            "color": "#EBF0F8"
                          },
                          "line": {
                            "color": "white"
                          }
                        },
                        "header": {
                          "fill": {
                            "color": "#C8D4E3"
                          },
                          "line": {
                            "color": "white"
                          }
                        },
                        "type": "table"
                      }
                    ]
                  },
                  "layout": {
                    "annotationdefaults": {
                      "arrowcolor": "#2a3f5f",
                      "arrowhead": 0,
                      "arrowwidth": 1
                    },
                    "autotypenumbers": "strict",
                    "coloraxis": {
                      "colorbar": {
                        "outlinewidth": 0,
                        "ticks": ""
                      }
                    },
                    "colorscale": {
                      "diverging": [
                        [
                          0,
                          "#8e0152"
                        ],
                        [
                          0.1,
                          "#c51b7d"
                        ],
                        [
                          0.2,
                          "#de77ae"
                        ],
                        [
                          0.3,
                          "#f1b6da"
                        ],
                        [
                          0.4,
                          "#fde0ef"
                        ],
                        [
                          0.5,
                          "#f7f7f7"
                        ],
                        [
                          0.6,
                          "#e6f5d0"
                        ],
                        [
                          0.7,
                          "#b8e186"
                        ],
                        [
                          0.8,
                          "#7fbc41"
                        ],
                        [
                          0.9,
                          "#4d9221"
                        ],
                        [
                          1,
                          "#276419"
                        ]
                      ],
                      "sequential": [
                        [
                          0,
                          "#0d0887"
                        ],
                        [
                          0.1111111111111111,
                          "#46039f"
                        ],
                        [
                          0.2222222222222222,
                          "#7201a8"
                        ],
                        [
                          0.3333333333333333,
                          "#9c179e"
                        ],
                        [
                          0.4444444444444444,
                          "#bd3786"
                        ],
                        [
                          0.5555555555555556,
                          "#d8576b"
                        ],
                        [
                          0.6666666666666666,
                          "#ed7953"
                        ],
                        [
                          0.7777777777777778,
                          "#fb9f3a"
                        ],
                        [
                          0.8888888888888888,
                          "#fdca26"
                        ],
                        [
                          1,
                          "#f0f921"
                        ]
                      ],
                      "sequentialminus": [
                        [
                          0,
                          "#0d0887"
                        ],
                        [
                          0.1111111111111111,
                          "#46039f"
                        ],
                        [
                          0.2222222222222222,
                          "#7201a8"
                        ],
                        [
                          0.3333333333333333,
                          "#9c179e"
                        ],
                        [
                          0.4444444444444444,
                          "#bd3786"
                        ],
                        [
                          0.5555555555555556,
                          "#d8576b"
                        ],
                        [
                          0.6666666666666666,
                          "#ed7953"
                        ],
                        [
                          0.7777777777777778,
                          "#fb9f3a"
                        ],
                        [
                          0.8888888888888888,
                          "#fdca26"
                        ],
                        [
                          1,
                          "#f0f921"
                        ]
                      ]
                    },
                    "colorway": [
                      "#636efa",
                      "#EF553B",
                      "#00cc96",
                      "#ab63fa",
                      "#FFA15A",
                      "#19d3f3",
                      "#FF6692",
                      "#B6E880",
                      "#FF97FF",
                      "#FECB52"
                    ],
                    "font": {
                      "color": "#2a3f5f"
                    },
                    "geo": {
                      "bgcolor": "white",
                      "lakecolor": "white",
                      "landcolor": "#E5ECF6",
                      "showlakes": true,
                      "showland": true,
                      "subunitcolor": "white"
                    },
                    "hoverlabel": {
                      "align": "left"
                    },
                    "hovermode": "closest",
                    "mapbox": {
                      "style": "light"
                    },
                    "paper_bgcolor": "white",
                    "plot_bgcolor": "#E5ECF6",
                    "polar": {
                      "angularaxis": {
                        "gridcolor": "white",
                        "linecolor": "white",
                        "ticks": ""
                      },
                      "bgcolor": "#E5ECF6",
                      "radialaxis": {
                        "gridcolor": "white",
                        "linecolor": "white",
                        "ticks": ""
                      }
                    },
                    "scene": {
                      "xaxis": {
                        "backgroundcolor": "#E5ECF6",
                        "gridcolor": "white",
                        "gridwidth": 2,
                        "linecolor": "white",
                        "showbackground": true,
                        "ticks": "",
                        "zerolinecolor": "white"
                      },
                      "yaxis": {
                        "backgroundcolor": "#E5ECF6",
                        "gridcolor": "white",
                        "gridwidth": 2,
                        "linecolor": "white",
                        "showbackground": true,
                        "ticks": "",
                        "zerolinecolor": "white"
                      },
                      "zaxis": {
                        "backgroundcolor": "#E5ECF6",
                        "gridcolor": "white",
                        "gridwidth": 2,
                        "linecolor": "white",
                        "showbackground": true,
                        "ticks": "",
                        "zerolinecolor": "white"
                      }
                    },
                    "shapedefaults": {
                      "line": {
                        "color": "#2a3f5f"
                      }
                    },
                    "ternary": {
                      "aaxis": {
                        "gridcolor": "white",
                        "linecolor": "white",
                        "ticks": ""
                      },
                      "baxis": {
                        "gridcolor": "white",
                        "linecolor": "white",
                        "ticks": ""
                      },
                      "bgcolor": "#E5ECF6",
                      "caxis": {
                        "gridcolor": "white",
                        "linecolor": "white",
                        "ticks": ""
                      }
                    },
                    "title": {
                      "x": 0.05
                    },
                    "xaxis": {
                      "automargin": true,
                      "gridcolor": "white",
                      "linecolor": "white",
                      "ticks": "",
                      "title": {
                        "standoff": 15
                      },
                      "zerolinecolor": "white",
                      "zerolinewidth": 2
                    },
                    "yaxis": {
                      "automargin": true,
                      "gridcolor": "white",
                      "linecolor": "white",
                      "ticks": "",
                      "title": {
                        "standoff": 15
                      },
                      "zerolinecolor": "white",
                      "zerolinewidth": 2
                    }
                  }
                },
                "title": {
                  "text": "Random Forest Feature Importance"
                },
                "xaxis": {
                  "showgrid": false,
                  "showline": false,
                  "ticklen": 5,
                  "zeroline": false
                },
                "yaxis": {
                  "gridwidth": 2,
                  "showgrid": false,
                  "ticklen": 5,
                  "title": {
                    "text": "Feature Importance"
                  },
                  "zeroline": false
                }
              },
              "config": {
                "showLink": false,
                "linkText": "Export to plot.ly",
                "plotlyServerURL": "https://plot.ly"
              }
            },
            "text/html": [
              "<div>                            <div id=\"1cd4019e-8cc5-4637-8eaf-ff069476bcf1\" class=\"plotly-graph-div\" style=\"height:525px; width:100%;\"></div>            <script type=\"text/javascript\">                require([\"plotly\"], function(Plotly) {                    window.PLOTLYENV=window.PLOTLYENV || {};                                    if (document.getElementById(\"1cd4019e-8cc5-4637-8eaf-ff069476bcf1\")) {                    Plotly.newPlot(                        \"1cd4019e-8cc5-4637-8eaf-ff069476bcf1\",                        [{\"marker\":{\"color\":[0.032778704800171206,0.010004704777654801,0.00711640798906968,0.0028089665507573455,0.0,0.006261177018723882,0.01431175818650837,0.005480705579346235,0.027961822053212796,0.08130111077913837,0.061827601920093074,0.05973502774123103,0.00777546247728299,0.0027007218757652426,0.0035525668569865295,0.002570004407644363,0.011770128768731129,0.0,0.05862704120709369,0.0354728839289185,0.010200909967470355,0.019582314315241777,0.02688369336735662,0.03084541419506819,0.0033389943286016815,0.027648373955743526,0.00955642494558727,0.0015730367985792872,0.02712213047865138,0.0006151689408884514,0.024022663480606967,0.0045794586346432796,4.7475244149682156e-05,0.03558685134834703,0.0004985551742523071,0.028427033988334405,0.0010754360903845396,0.0007538636713929778,0.016290535182695506,0.004534526187985154,0.0013454888179964166,0.0002675893721758962,0.0013889221416814907,0.0007890579111074976,0.00809109442109931,0.0006599955849121015,0.010012752550382717,0.002256157516518217,0.00023620012520946337,0.02776510468637282,0.037112028461464046,0.005390467754058198,0.0,0.18526818209216944,0.014177301350542812],\"colorscale\":[[0.0,\"rgb(12,51,131)\"],[0.25,\"rgb(10,136,186)\"],[0.5,\"rgb(242,211,56)\"],[0.75,\"rgb(242,143,56)\"],[1.0,\"rgb(217,30,30)\"]],\"showscale\":true,\"size\":13,\"sizemode\":\"diameter\",\"sizeref\":1},\"mode\":\"markers\",\"text\":[\"Age\",\"DailyRate\",\"DistanceFromHome\",\"Education\",\"EmployeeCount\",\"EmployeeNumber\",\"EnvironmentSatisfaction\",\"HourlyRate\",\"JobInvolvement\",\"JobLevel\",\"JobSatisfaction\",\"MonthlyIncome\",\"MonthlyRate\",\"NumCompaniesWorked\",\"PercentSalaryHike\",\"PerformanceRating\",\"RelationshipSatisfaction\",\"StandardHours\",\"StockOptionLevel\",\"TotalWorkingYears\",\"TrainingTimesLastYear\",\"WorkLifeBalance\",\"YearsAtCompany\",\"YearsInCurrentRole\",\"YearsSinceLastPromotion\",\"YearsWithCurrManager\",\"BusinessTravel_Non-Travel\",\"BusinessTravel_Travel_Frequently\",\"BusinessTravel_Travel_Rarely\",\"Department_Human Resources\",\"Department_Research & Development\",\"Department_Sales\",\"EducationField_Human Resources\",\"EducationField_Life Sciences\",\"EducationField_Marketing\",\"EducationField_Medical\",\"EducationField_Other\",\"EducationField_Technical Degree\",\"Gender_Female\",\"Gender_Male\",\"JobRole_Healthcare Representative\",\"JobRole_Human Resources\",\"JobRole_Laboratory Technician\",\"JobRole_Manager\",\"JobRole_Manufacturing Director\",\"JobRole_Research Director\",\"JobRole_Research Scientist\",\"JobRole_Sales Executive\",\"JobRole_Sales Representative\",\"MaritalStatus_Divorced\",\"MaritalStatus_Married\",\"MaritalStatus_Single\",\"Over18_Y\",\"OverTime_No\",\"OverTime_Yes\"],\"x\":[\"Age\",\"DailyRate\",\"DistanceFromHome\",\"Education\",\"EmployeeCount\",\"EmployeeNumber\",\"EnvironmentSatisfaction\",\"HourlyRate\",\"JobInvolvement\",\"JobLevel\",\"JobSatisfaction\",\"MonthlyIncome\",\"MonthlyRate\",\"NumCompaniesWorked\",\"PercentSalaryHike\",\"PerformanceRating\",\"RelationshipSatisfaction\",\"StandardHours\",\"StockOptionLevel\",\"TotalWorkingYears\",\"TrainingTimesLastYear\",\"WorkLifeBalance\",\"YearsAtCompany\",\"YearsInCurrentRole\",\"YearsSinceLastPromotion\",\"YearsWithCurrManager\",\"BusinessTravel_Non-Travel\",\"BusinessTravel_Travel_Frequently\",\"BusinessTravel_Travel_Rarely\",\"Department_Human Resources\",\"Department_Research & Development\",\"Department_Sales\",\"EducationField_Human Resources\",\"EducationField_Life Sciences\",\"EducationField_Marketing\",\"EducationField_Medical\",\"EducationField_Other\",\"EducationField_Technical Degree\",\"Gender_Female\",\"Gender_Male\",\"JobRole_Healthcare Representative\",\"JobRole_Human Resources\",\"JobRole_Laboratory Technician\",\"JobRole_Manager\",\"JobRole_Manufacturing Director\",\"JobRole_Research Director\",\"JobRole_Research Scientist\",\"JobRole_Sales Executive\",\"JobRole_Sales Representative\",\"MaritalStatus_Divorced\",\"MaritalStatus_Married\",\"MaritalStatus_Single\",\"Over18_Y\",\"OverTime_No\",\"OverTime_Yes\"],\"y\":[0.032778704800171206,0.010004704777654801,0.00711640798906968,0.0028089665507573455,0.0,0.006261177018723882,0.01431175818650837,0.005480705579346235,0.027961822053212796,0.08130111077913837,0.061827601920093074,0.05973502774123103,0.00777546247728299,0.0027007218757652426,0.0035525668569865295,0.002570004407644363,0.011770128768731129,0.0,0.05862704120709369,0.0354728839289185,0.010200909967470355,0.019582314315241777,0.02688369336735662,0.03084541419506819,0.0033389943286016815,0.027648373955743526,0.00955642494558727,0.0015730367985792872,0.02712213047865138,0.0006151689408884514,0.024022663480606967,0.0045794586346432796,4.7475244149682156e-05,0.03558685134834703,0.0004985551742523071,0.028427033988334405,0.0010754360903845396,0.0007538636713929778,0.016290535182695506,0.004534526187985154,0.0013454888179964166,0.0002675893721758962,0.0013889221416814907,0.0007890579111074976,0.00809109442109931,0.0006599955849121015,0.010012752550382717,0.002256157516518217,0.00023620012520946337,0.02776510468637282,0.037112028461464046,0.005390467754058198,0.0,0.18526818209216944,0.014177301350542812],\"type\":\"scatter\"}],                        {\"autosize\":true,\"hovermode\":\"closest\",\"showlegend\":false,\"template\":{\"data\":{\"barpolar\":[{\"marker\":{\"line\":{\"color\":\"#E5ECF6\",\"width\":0.5},\"pattern\":{\"fillmode\":\"overlay\",\"size\":10,\"solidity\":0.2}},\"type\":\"barpolar\"}],\"bar\":[{\"error_x\":{\"color\":\"#2a3f5f\"},\"error_y\":{\"color\":\"#2a3f5f\"},\"marker\":{\"line\":{\"color\":\"#E5ECF6\",\"width\":0.5},\"pattern\":{\"fillmode\":\"overlay\",\"size\":10,\"solidity\":0.2}},\"type\":\"bar\"}],\"carpet\":[{\"aaxis\":{\"endlinecolor\":\"#2a3f5f\",\"gridcolor\":\"white\",\"linecolor\":\"white\",\"minorgridcolor\":\"white\",\"startlinecolor\":\"#2a3f5f\"},\"baxis\":{\"endlinecolor\":\"#2a3f5f\",\"gridcolor\":\"white\",\"linecolor\":\"white\",\"minorgridcolor\":\"white\",\"startlinecolor\":\"#2a3f5f\"},\"type\":\"carpet\"}],\"choropleth\":[{\"colorbar\":{\"outlinewidth\":0,\"ticks\":\"\"},\"type\":\"choropleth\"}],\"contourcarpet\":[{\"colorbar\":{\"outlinewidth\":0,\"ticks\":\"\"},\"type\":\"contourcarpet\"}],\"contour\":[{\"colorbar\":{\"outlinewidth\":0,\"ticks\":\"\"},\"colorscale\":[[0.0,\"#0d0887\"],[0.1111111111111111,\"#46039f\"],[0.2222222222222222,\"#7201a8\"],[0.3333333333333333,\"#9c179e\"],[0.4444444444444444,\"#bd3786\"],[0.5555555555555556,\"#d8576b\"],[0.6666666666666666,\"#ed7953\"],[0.7777777777777778,\"#fb9f3a\"],[0.8888888888888888,\"#fdca26\"],[1.0,\"#f0f921\"]],\"type\":\"contour\"}],\"heatmapgl\":[{\"colorbar\":{\"outlinewidth\":0,\"ticks\":\"\"},\"colorscale\":[[0.0,\"#0d0887\"],[0.1111111111111111,\"#46039f\"],[0.2222222222222222,\"#7201a8\"],[0.3333333333333333,\"#9c179e\"],[0.4444444444444444,\"#bd3786\"],[0.5555555555555556,\"#d8576b\"],[0.6666666666666666,\"#ed7953\"],[0.7777777777777778,\"#fb9f3a\"],[0.8888888888888888,\"#fdca26\"],[1.0,\"#f0f921\"]],\"type\":\"heatmapgl\"}],\"heatmap\":[{\"colorbar\":{\"outlinewidth\":0,\"ticks\":\"\"},\"colorscale\":[[0.0,\"#0d0887\"],[0.1111111111111111,\"#46039f\"],[0.2222222222222222,\"#7201a8\"],[0.3333333333333333,\"#9c179e\"],[0.4444444444444444,\"#bd3786\"],[0.5555555555555556,\"#d8576b\"],[0.6666666666666666,\"#ed7953\"],[0.7777777777777778,\"#fb9f3a\"],[0.8888888888888888,\"#fdca26\"],[1.0,\"#f0f921\"]],\"type\":\"heatmap\"}],\"histogram2dcontour\":[{\"colorbar\":{\"outlinewidth\":0,\"ticks\":\"\"},\"colorscale\":[[0.0,\"#0d0887\"],[0.1111111111111111,\"#46039f\"],[0.2222222222222222,\"#7201a8\"],[0.3333333333333333,\"#9c179e\"],[0.4444444444444444,\"#bd3786\"],[0.5555555555555556,\"#d8576b\"],[0.6666666666666666,\"#ed7953\"],[0.7777777777777778,\"#fb9f3a\"],[0.8888888888888888,\"#fdca26\"],[1.0,\"#f0f921\"]],\"type\":\"histogram2dcontour\"}],\"histogram2d\":[{\"colorbar\":{\"outlinewidth\":0,\"ticks\":\"\"},\"colorscale\":[[0.0,\"#0d0887\"],[0.1111111111111111,\"#46039f\"],[0.2222222222222222,\"#7201a8\"],[0.3333333333333333,\"#9c179e\"],[0.4444444444444444,\"#bd3786\"],[0.5555555555555556,\"#d8576b\"],[0.6666666666666666,\"#ed7953\"],[0.7777777777777778,\"#fb9f3a\"],[0.8888888888888888,\"#fdca26\"],[1.0,\"#f0f921\"]],\"type\":\"histogram2d\"}],\"histogram\":[{\"marker\":{\"pattern\":{\"fillmode\":\"overlay\",\"size\":10,\"solidity\":0.2}},\"type\":\"histogram\"}],\"mesh3d\":[{\"colorbar\":{\"outlinewidth\":0,\"ticks\":\"\"},\"type\":\"mesh3d\"}],\"parcoords\":[{\"line\":{\"colorbar\":{\"outlinewidth\":0,\"ticks\":\"\"}},\"type\":\"parcoords\"}],\"pie\":[{\"automargin\":true,\"type\":\"pie\"}],\"scatter3d\":[{\"line\":{\"colorbar\":{\"outlinewidth\":0,\"ticks\":\"\"}},\"marker\":{\"colorbar\":{\"outlinewidth\":0,\"ticks\":\"\"}},\"type\":\"scatter3d\"}],\"scattercarpet\":[{\"marker\":{\"colorbar\":{\"outlinewidth\":0,\"ticks\":\"\"}},\"type\":\"scattercarpet\"}],\"scattergeo\":[{\"marker\":{\"colorbar\":{\"outlinewidth\":0,\"ticks\":\"\"}},\"type\":\"scattergeo\"}],\"scattergl\":[{\"marker\":{\"colorbar\":{\"outlinewidth\":0,\"ticks\":\"\"}},\"type\":\"scattergl\"}],\"scattermapbox\":[{\"marker\":{\"colorbar\":{\"outlinewidth\":0,\"ticks\":\"\"}},\"type\":\"scattermapbox\"}],\"scatterpolargl\":[{\"marker\":{\"colorbar\":{\"outlinewidth\":0,\"ticks\":\"\"}},\"type\":\"scatterpolargl\"}],\"scatterpolar\":[{\"marker\":{\"colorbar\":{\"outlinewidth\":0,\"ticks\":\"\"}},\"type\":\"scatterpolar\"}],\"scatter\":[{\"fillpattern\":{\"fillmode\":\"overlay\",\"size\":10,\"solidity\":0.2},\"type\":\"scatter\"}],\"scatterternary\":[{\"marker\":{\"colorbar\":{\"outlinewidth\":0,\"ticks\":\"\"}},\"type\":\"scatterternary\"}],\"surface\":[{\"colorbar\":{\"outlinewidth\":0,\"ticks\":\"\"},\"colorscale\":[[0.0,\"#0d0887\"],[0.1111111111111111,\"#46039f\"],[0.2222222222222222,\"#7201a8\"],[0.3333333333333333,\"#9c179e\"],[0.4444444444444444,\"#bd3786\"],[0.5555555555555556,\"#d8576b\"],[0.6666666666666666,\"#ed7953\"],[0.7777777777777778,\"#fb9f3a\"],[0.8888888888888888,\"#fdca26\"],[1.0,\"#f0f921\"]],\"type\":\"surface\"}],\"table\":[{\"cells\":{\"fill\":{\"color\":\"#EBF0F8\"},\"line\":{\"color\":\"white\"}},\"header\":{\"fill\":{\"color\":\"#C8D4E3\"},\"line\":{\"color\":\"white\"}},\"type\":\"table\"}]},\"layout\":{\"annotationdefaults\":{\"arrowcolor\":\"#2a3f5f\",\"arrowhead\":0,\"arrowwidth\":1},\"autotypenumbers\":\"strict\",\"coloraxis\":{\"colorbar\":{\"outlinewidth\":0,\"ticks\":\"\"}},\"colorscale\":{\"diverging\":[[0,\"#8e0152\"],[0.1,\"#c51b7d\"],[0.2,\"#de77ae\"],[0.3,\"#f1b6da\"],[0.4,\"#fde0ef\"],[0.5,\"#f7f7f7\"],[0.6,\"#e6f5d0\"],[0.7,\"#b8e186\"],[0.8,\"#7fbc41\"],[0.9,\"#4d9221\"],[1,\"#276419\"]],\"sequential\":[[0.0,\"#0d0887\"],[0.1111111111111111,\"#46039f\"],[0.2222222222222222,\"#7201a8\"],[0.3333333333333333,\"#9c179e\"],[0.4444444444444444,\"#bd3786\"],[0.5555555555555556,\"#d8576b\"],[0.6666666666666666,\"#ed7953\"],[0.7777777777777778,\"#fb9f3a\"],[0.8888888888888888,\"#fdca26\"],[1.0,\"#f0f921\"]],\"sequentialminus\":[[0.0,\"#0d0887\"],[0.1111111111111111,\"#46039f\"],[0.2222222222222222,\"#7201a8\"],[0.3333333333333333,\"#9c179e\"],[0.4444444444444444,\"#bd3786\"],[0.5555555555555556,\"#d8576b\"],[0.6666666666666666,\"#ed7953\"],[0.7777777777777778,\"#fb9f3a\"],[0.8888888888888888,\"#fdca26\"],[1.0,\"#f0f921\"]]},\"colorway\":[\"#636efa\",\"#EF553B\",\"#00cc96\",\"#ab63fa\",\"#FFA15A\",\"#19d3f3\",\"#FF6692\",\"#B6E880\",\"#FF97FF\",\"#FECB52\"],\"font\":{\"color\":\"#2a3f5f\"},\"geo\":{\"bgcolor\":\"white\",\"lakecolor\":\"white\",\"landcolor\":\"#E5ECF6\",\"showlakes\":true,\"showland\":true,\"subunitcolor\":\"white\"},\"hoverlabel\":{\"align\":\"left\"},\"hovermode\":\"closest\",\"mapbox\":{\"style\":\"light\"},\"paper_bgcolor\":\"white\",\"plot_bgcolor\":\"#E5ECF6\",\"polar\":{\"angularaxis\":{\"gridcolor\":\"white\",\"linecolor\":\"white\",\"ticks\":\"\"},\"bgcolor\":\"#E5ECF6\",\"radialaxis\":{\"gridcolor\":\"white\",\"linecolor\":\"white\",\"ticks\":\"\"}},\"scene\":{\"xaxis\":{\"backgroundcolor\":\"#E5ECF6\",\"gridcolor\":\"white\",\"gridwidth\":2,\"linecolor\":\"white\",\"showbackground\":true,\"ticks\":\"\",\"zerolinecolor\":\"white\"},\"yaxis\":{\"backgroundcolor\":\"#E5ECF6\",\"gridcolor\":\"white\",\"gridwidth\":2,\"linecolor\":\"white\",\"showbackground\":true,\"ticks\":\"\",\"zerolinecolor\":\"white\"},\"zaxis\":{\"backgroundcolor\":\"#E5ECF6\",\"gridcolor\":\"white\",\"gridwidth\":2,\"linecolor\":\"white\",\"showbackground\":true,\"ticks\":\"\",\"zerolinecolor\":\"white\"}},\"shapedefaults\":{\"line\":{\"color\":\"#2a3f5f\"}},\"ternary\":{\"aaxis\":{\"gridcolor\":\"white\",\"linecolor\":\"white\",\"ticks\":\"\"},\"baxis\":{\"gridcolor\":\"white\",\"linecolor\":\"white\",\"ticks\":\"\"},\"bgcolor\":\"#E5ECF6\",\"caxis\":{\"gridcolor\":\"white\",\"linecolor\":\"white\",\"ticks\":\"\"}},\"title\":{\"x\":0.05},\"xaxis\":{\"automargin\":true,\"gridcolor\":\"white\",\"linecolor\":\"white\",\"ticks\":\"\",\"title\":{\"standoff\":15},\"zerolinecolor\":\"white\",\"zerolinewidth\":2},\"yaxis\":{\"automargin\":true,\"gridcolor\":\"white\",\"linecolor\":\"white\",\"ticks\":\"\",\"title\":{\"standoff\":15},\"zerolinecolor\":\"white\",\"zerolinewidth\":2}}},\"title\":{\"text\":\"Random Forest Feature Importance\"},\"xaxis\":{\"showgrid\":false,\"showline\":false,\"ticklen\":5,\"zeroline\":false},\"yaxis\":{\"gridwidth\":2,\"showgrid\":false,\"ticklen\":5,\"title\":{\"text\":\"Feature Importance\"},\"zeroline\":false}},                        {\"responsive\": true}                    ).then(function(){\n",
              "                            \n",
              "var gd = document.getElementById('1cd4019e-8cc5-4637-8eaf-ff069476bcf1');\n",
              "var x = new MutationObserver(function (mutations, observer) {{\n",
              "        var display = window.getComputedStyle(gd).display;\n",
              "        if (!display || display === 'none') {{\n",
              "            console.log([gd, 'removed!']);\n",
              "            Plotly.purge(gd);\n",
              "            observer.disconnect();\n",
              "        }}\n",
              "}});\n",
              "\n",
              "// Listen for the removal of the full notebook cells\n",
              "var notebookContainer = gd.closest('#notebook-container');\n",
              "if (notebookContainer) {{\n",
              "    x.observe(notebookContainer, {childList: true});\n",
              "}}\n",
              "\n",
              "// Listen for the clearing of the current output cell\n",
              "var outputEl = gd.closest('.output');\n",
              "if (outputEl) {{\n",
              "    x.observe(outputEl, {childList: true});\n",
              "}}\n",
              "\n",
              "                        })                };                });            </script>        </div>"
            ]
          },
          "metadata": {}
        }
      ]
    },
    {
      "cell_type": "code",
      "source": [],
      "metadata": {
        "id": "a8WMXQDVmjnF"
      },
      "execution_count": null,
      "outputs": []
    }
  ]
}